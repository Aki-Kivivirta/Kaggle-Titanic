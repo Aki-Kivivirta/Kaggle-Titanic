{
 "cells": [
  {
   "cell_type": "code",
   "execution_count": 1,
   "id": "9db5bf2a",
   "metadata": {
    "_cell_guid": "b1076dfc-b9ad-4769-8c92-a6c4dae69d19",
    "_uuid": "8f2839f25d086af736a60e9eeb907d3b93b6e0e5",
    "execution": {
     "iopub.execute_input": "2023-02-27T10:00:46.008462Z",
     "iopub.status.busy": "2023-02-27T10:00:46.007907Z",
     "iopub.status.idle": "2023-02-27T10:00:47.901210Z",
     "shell.execute_reply": "2023-02-27T10:00:47.900073Z"
    },
    "papermill": {
     "duration": 1.906502,
     "end_time": "2023-02-27T10:00:47.904288",
     "exception": false,
     "start_time": "2023-02-27T10:00:45.997786",
     "status": "completed"
    },
    "tags": []
   },
   "outputs": [],
   "source": [
    "import numpy as np\n",
    "import pandas as pd\n",
    "from matplotlib import pyplot as plt\n",
    "import torch\n",
    "import torch.nn as nn\n",
    "import os"
   ]
  },
  {
   "cell_type": "markdown",
   "id": "4ffa5b4d",
   "metadata": {
    "papermill": {
     "duration": 0.008249,
     "end_time": "2023-02-27T10:00:47.921858",
     "exception": false,
     "start_time": "2023-02-27T10:00:47.913609",
     "status": "completed"
    },
    "tags": []
   },
   "source": [
    "# Data exploration"
   ]
  },
  {
   "cell_type": "code",
   "execution_count": 2,
   "id": "e945d5d7",
   "metadata": {
    "execution": {
     "iopub.execute_input": "2023-02-27T10:00:47.938274Z",
     "iopub.status.busy": "2023-02-27T10:00:47.937817Z",
     "iopub.status.idle": "2023-02-27T10:00:47.972211Z",
     "shell.execute_reply": "2023-02-27T10:00:47.971067Z"
    },
    "papermill": {
     "duration": 0.046404,
     "end_time": "2023-02-27T10:00:47.975821",
     "exception": false,
     "start_time": "2023-02-27T10:00:47.929417",
     "status": "completed"
    },
    "tags": []
   },
   "outputs": [
    {
     "data": {
      "text/html": [
       "<div>\n",
       "<style scoped>\n",
       "    .dataframe tbody tr th:only-of-type {\n",
       "        vertical-align: middle;\n",
       "    }\n",
       "\n",
       "    .dataframe tbody tr th {\n",
       "        vertical-align: top;\n",
       "    }\n",
       "\n",
       "    .dataframe thead th {\n",
       "        text-align: right;\n",
       "    }\n",
       "</style>\n",
       "<table border=\"1\" class=\"dataframe\">\n",
       "  <thead>\n",
       "    <tr style=\"text-align: right;\">\n",
       "      <th></th>\n",
       "      <th>PassengerId</th>\n",
       "      <th>Survived</th>\n",
       "      <th>Pclass</th>\n",
       "      <th>Name</th>\n",
       "      <th>Sex</th>\n",
       "      <th>Age</th>\n",
       "      <th>SibSp</th>\n",
       "      <th>Parch</th>\n",
       "      <th>Ticket</th>\n",
       "      <th>Fare</th>\n",
       "      <th>Cabin</th>\n",
       "      <th>Embarked</th>\n",
       "    </tr>\n",
       "  </thead>\n",
       "  <tbody>\n",
       "    <tr>\n",
       "      <th>0</th>\n",
       "      <td>1</td>\n",
       "      <td>0</td>\n",
       "      <td>3</td>\n",
       "      <td>Braund, Mr. Owen Harris</td>\n",
       "      <td>male</td>\n",
       "      <td>22.0</td>\n",
       "      <td>1</td>\n",
       "      <td>0</td>\n",
       "      <td>A/5 21171</td>\n",
       "      <td>7.2500</td>\n",
       "      <td>NaN</td>\n",
       "      <td>S</td>\n",
       "    </tr>\n",
       "    <tr>\n",
       "      <th>1</th>\n",
       "      <td>2</td>\n",
       "      <td>1</td>\n",
       "      <td>1</td>\n",
       "      <td>Cumings, Mrs. John Bradley (Florence Briggs Th...</td>\n",
       "      <td>female</td>\n",
       "      <td>38.0</td>\n",
       "      <td>1</td>\n",
       "      <td>0</td>\n",
       "      <td>PC 17599</td>\n",
       "      <td>71.2833</td>\n",
       "      <td>C85</td>\n",
       "      <td>C</td>\n",
       "    </tr>\n",
       "    <tr>\n",
       "      <th>2</th>\n",
       "      <td>3</td>\n",
       "      <td>1</td>\n",
       "      <td>3</td>\n",
       "      <td>Heikkinen, Miss. Laina</td>\n",
       "      <td>female</td>\n",
       "      <td>26.0</td>\n",
       "      <td>0</td>\n",
       "      <td>0</td>\n",
       "      <td>STON/O2. 3101282</td>\n",
       "      <td>7.9250</td>\n",
       "      <td>NaN</td>\n",
       "      <td>S</td>\n",
       "    </tr>\n",
       "    <tr>\n",
       "      <th>3</th>\n",
       "      <td>4</td>\n",
       "      <td>1</td>\n",
       "      <td>1</td>\n",
       "      <td>Futrelle, Mrs. Jacques Heath (Lily May Peel)</td>\n",
       "      <td>female</td>\n",
       "      <td>35.0</td>\n",
       "      <td>1</td>\n",
       "      <td>0</td>\n",
       "      <td>113803</td>\n",
       "      <td>53.1000</td>\n",
       "      <td>C123</td>\n",
       "      <td>S</td>\n",
       "    </tr>\n",
       "    <tr>\n",
       "      <th>4</th>\n",
       "      <td>5</td>\n",
       "      <td>0</td>\n",
       "      <td>3</td>\n",
       "      <td>Allen, Mr. William Henry</td>\n",
       "      <td>male</td>\n",
       "      <td>35.0</td>\n",
       "      <td>0</td>\n",
       "      <td>0</td>\n",
       "      <td>373450</td>\n",
       "      <td>8.0500</td>\n",
       "      <td>NaN</td>\n",
       "      <td>S</td>\n",
       "    </tr>\n",
       "  </tbody>\n",
       "</table>\n",
       "</div>"
      ],
      "text/plain": [
       "   PassengerId  Survived  Pclass  \\\n",
       "0            1         0       3   \n",
       "1            2         1       1   \n",
       "2            3         1       3   \n",
       "3            4         1       1   \n",
       "4            5         0       3   \n",
       "\n",
       "                                                Name     Sex   Age  SibSp  \\\n",
       "0                            Braund, Mr. Owen Harris    male  22.0      1   \n",
       "1  Cumings, Mrs. John Bradley (Florence Briggs Th...  female  38.0      1   \n",
       "2                             Heikkinen, Miss. Laina  female  26.0      0   \n",
       "3       Futrelle, Mrs. Jacques Heath (Lily May Peel)  female  35.0      1   \n",
       "4                           Allen, Mr. William Henry    male  35.0      0   \n",
       "\n",
       "   Parch            Ticket     Fare Cabin Embarked  \n",
       "0      0         A/5 21171   7.2500   NaN        S  \n",
       "1      0          PC 17599  71.2833   C85        C  \n",
       "2      0  STON/O2. 3101282   7.9250   NaN        S  \n",
       "3      0            113803  53.1000  C123        S  \n",
       "4      0            373450   8.0500   NaN        S  "
      ]
     },
     "execution_count": 2,
     "metadata": {},
     "output_type": "execute_result"
    }
   ],
   "source": [
    "train_data = pd.read_csv(\"/kaggle/input/titanic/train.csv\")\n",
    "train_data.head() # 'PassengerId' is row number+1"
   ]
  },
  {
   "cell_type": "code",
   "execution_count": 3,
   "id": "47f3bec8",
   "metadata": {
    "execution": {
     "iopub.execute_input": "2023-02-27T10:00:47.993976Z",
     "iopub.status.busy": "2023-02-27T10:00:47.993699Z",
     "iopub.status.idle": "2023-02-27T10:00:48.003052Z",
     "shell.execute_reply": "2023-02-27T10:00:48.002045Z"
    },
    "papermill": {
     "duration": 0.020467,
     "end_time": "2023-02-27T10:00:48.005215",
     "exception": false,
     "start_time": "2023-02-27T10:00:47.984748",
     "status": "completed"
    },
    "tags": []
   },
   "outputs": [
    {
     "data": {
      "text/plain": [
       "PassengerId      0\n",
       "Survived         0\n",
       "Pclass           0\n",
       "Name             0\n",
       "Sex              0\n",
       "Age            177\n",
       "SibSp            0\n",
       "Parch            0\n",
       "Ticket           0\n",
       "Fare             0\n",
       "Cabin          687\n",
       "Embarked         2\n",
       "dtype: int64"
      ]
     },
     "execution_count": 3,
     "metadata": {},
     "output_type": "execute_result"
    }
   ],
   "source": [
    "# See missing values \n",
    "train_data.isna().sum()"
   ]
  },
  {
   "cell_type": "code",
   "execution_count": 4,
   "id": "c4146912",
   "metadata": {
    "execution": {
     "iopub.execute_input": "2023-02-27T10:00:48.023529Z",
     "iopub.status.busy": "2023-02-27T10:00:48.023273Z",
     "iopub.status.idle": "2023-02-27T10:00:48.035046Z",
     "shell.execute_reply": "2023-02-27T10:00:48.034063Z"
    },
    "papermill": {
     "duration": 0.023625,
     "end_time": "2023-02-27T10:00:48.037540",
     "exception": false,
     "start_time": "2023-02-27T10:00:48.013915",
     "status": "completed"
    },
    "tags": []
   },
   "outputs": [
    {
     "name": "stdout",
     "output_type": "stream",
     "text": [
      "All 'Embarked' labels:  ['S' 'C' 'Q' nan]\n",
      "Number of 'S':  644\n",
      "Number of 'C':  168\n",
      "Number of 'Q':  77\n"
     ]
    }
   ],
   "source": [
    "# Look at all Embarked labels\n",
    "print(\"All 'Embarked' labels: \",train_data.Embarked.unique() )\n",
    "print(\"Number of 'S': \" ,np.sum(train_data.Embarked=='S') )\n",
    "print(\"Number of 'C': \" ,np.sum(train_data.Embarked=='C') )\n",
    "print(\"Number of 'Q': \" ,np.sum(train_data.Embarked=='Q') ) "
   ]
  },
  {
   "cell_type": "markdown",
   "id": "d17a81a4",
   "metadata": {
    "papermill": {
     "duration": 0.007464,
     "end_time": "2023-02-27T10:00:48.052679",
     "exception": false,
     "start_time": "2023-02-27T10:00:48.045215",
     "status": "completed"
    },
    "tags": []
   },
   "source": [
    "## Feature engineering with cabin data"
   ]
  },
  {
   "cell_type": "code",
   "execution_count": 5,
   "id": "328c841c",
   "metadata": {
    "execution": {
     "iopub.execute_input": "2023-02-27T10:00:48.069384Z",
     "iopub.status.busy": "2023-02-27T10:00:48.069137Z",
     "iopub.status.idle": "2023-02-27T10:00:48.075375Z",
     "shell.execute_reply": "2023-02-27T10:00:48.074490Z"
    },
    "papermill": {
     "duration": 0.017278,
     "end_time": "2023-02-27T10:00:48.077867",
     "exception": false,
     "start_time": "2023-02-27T10:00:48.060589",
     "status": "completed"
    },
    "tags": []
   },
   "outputs": [
    {
     "name": "stdout",
     "output_type": "stream",
     "text": [
      "All 'Cabin' labels:  [nan 'C85' 'C123' 'E46' 'G6' 'C103' 'D56' 'A6' 'C23 C25 C27' 'B78' 'D33'\n",
      " 'B30' 'C52' 'B28' 'C83' 'F33' 'F G73' 'E31' 'A5' 'D10 D12' 'D26' 'C110'\n",
      " 'B58 B60' 'E101' 'F E69' 'D47' 'B86' 'F2' 'C2' 'E33' 'B19' 'A7' 'C49'\n",
      " 'F4' 'A32' 'B4' 'B80' 'A31' 'D36' 'D15' 'C93' 'C78' 'D35' 'C87' 'B77'\n",
      " 'E67' 'B94' 'C125' 'C99' 'C118' 'D7' 'A19' 'B49' 'D' 'C22 C26' 'C106'\n",
      " 'C65' 'E36' 'C54' 'B57 B59 B63 B66' 'C7' 'E34' 'C32' 'B18' 'C124' 'C91'\n",
      " 'E40' 'T' 'C128' 'D37' 'B35' 'E50' 'C82' 'B96 B98' 'E10' 'E44' 'A34'\n",
      " 'C104' 'C111' 'C92' 'E38' 'D21' 'E12' 'E63' 'A14' 'B37' 'C30' 'D20' 'B79'\n",
      " 'E25' 'D46' 'B73' 'C95' 'B38' 'B39' 'B22' 'C86' 'C70' 'A16' 'C101' 'C68'\n",
      " 'A10' 'E68' 'B41' 'A20' 'D19' 'D50' 'D9' 'A23' 'B50' 'A26' 'D48' 'E58'\n",
      " 'C126' 'B71' 'B51 B53 B55' 'D49' 'B5' 'B20' 'F G63' 'C62 C64' 'E24' 'C90'\n",
      " 'C45' 'E8' 'B101' 'D45' 'C46' 'D30' 'E121' 'D11' 'E77' 'F38' 'B3' 'D6'\n",
      " 'B82 B84' 'D17' 'A36' 'B102' 'B69' 'E49' 'C47' 'D28' 'E17' 'A24' 'C50'\n",
      " 'B42' 'C148']\n",
      "\n",
      "'Cabin' labels starting with 'C':  ['C85', 'C123', 'C103', 'C23 C25 C27', 'C52', 'C83', 'C110', 'C2', 'C49', 'C93', 'C78', 'C87', 'C125', 'C99', 'C118', 'C22 C26', 'C106', 'C65', 'C54', 'C7', 'C32', 'C124', 'C91', 'C128', 'C82', 'C104', 'C111', 'C92', 'C30', 'C95', 'C86', 'C70', 'C101', 'C68', 'C126', 'C62 C64', 'C90', 'C45', 'C46', 'C47', 'C50', 'C148']\n"
     ]
    }
   ],
   "source": [
    "# Get all unique cabins\n",
    "unique_cabins = train_data.Cabin.unique()\n",
    "print(\"All 'Cabin' labels: \",unique_cabins)\n",
    "\n",
    "# Look at cabins with a certain first letter\n",
    "c_cabins = [c for c in unique_cabins[1:] if c[0]=='C'] # [1:] skips nan\n",
    "print(\"\\n'Cabin' labels starting with 'C': \",c_cabins)"
   ]
  },
  {
   "cell_type": "code",
   "execution_count": 6,
   "id": "a8e28230",
   "metadata": {
    "execution": {
     "iopub.execute_input": "2023-02-27T10:00:48.096097Z",
     "iopub.status.busy": "2023-02-27T10:00:48.095244Z",
     "iopub.status.idle": "2023-02-27T10:00:48.756964Z",
     "shell.execute_reply": "2023-02-27T10:00:48.755953Z"
    },
    "papermill": {
     "duration": 0.672624,
     "end_time": "2023-02-27T10:00:48.759186",
     "exception": false,
     "start_time": "2023-02-27T10:00:48.086562",
     "status": "completed"
    },
    "tags": []
   },
   "outputs": [
    {
     "data": {
      "image/png": "[encoded data removed]",
      "text/plain": [
       "<Figure size 720x360 with 1 Axes>"
      ]
     },
     "metadata": {
      "needs_background": "light"
     },
     "output_type": "display_data"
    },
    {
     "data": {
      "image/png": "[encoded data removed]",
      "text/plain": [
       "<Figure size 720x360 with 1 Axes>"
      ]
     },
     "metadata": {
      "needs_background": "light"
     },
     "output_type": "display_data"
    }
   ],
   "source": [
    "def get_cabin_numbers(df, nan_val=0):\n",
    "    mean_cabin_numbers = []\n",
    "\n",
    "    for cabin_codes in df.Cabin:\n",
    "\n",
    "        # HOX! Some passengers had multiple cabins\n",
    "\n",
    "        # If cabin code is nan set the number to 'nan_val' (=0)\n",
    "        if cabin_codes is np.nan:\n",
    "            cabin_number = nan_val\n",
    "        else:\n",
    "            \n",
    "            # Get cabin numbers as a list\n",
    "            cabin_numbers = []\n",
    "            for cabin_code in cabin_codes.split(\" \"):\n",
    "                cabin_number = ''.join([ c for c in cabin_code if c.isdigit() ])\n",
    "                if cabin_number != '':\n",
    "                    cabin_numbers.append(cabin_number)\n",
    "\n",
    "            # Set the number to 0 if there wasn't any number, othervise calculate mean of cabin numbers in cabin_codes\n",
    "            cabin_number = nan_val if (cabin_numbers == [''] or cabin_numbers == []) else np.array( cabin_numbers, dtype=np.int32).mean()\n",
    "\n",
    "        # Append the cabin number\n",
    "        mean_cabin_numbers.append( cabin_number )\n",
    "\n",
    "    return np.array(mean_cabin_numbers)\n",
    "\n",
    "# Get cabin numbers\n",
    "mean_cabin_numbers = get_cabin_numbers(train_data)\n",
    "\n",
    "# Plot\n",
    "plt.figure(figsize=(10,5))\n",
    "plt.hist( (mean_cabin_numbers), bins=100)\n",
    "plt.title(\"All cabin numbers\")\n",
    "plt.grid()\n",
    "plt.show() \n",
    "\n",
    "plt.figure(figsize=(10,5))\n",
    "plt.hist( mean_cabin_numbers[np.where((mean_cabin_numbers)>0)], bins=50)\n",
    "plt.title(\"Cabin numbers without 0s\")\n",
    "plt.grid()\n",
    "plt.show() "
   ]
  },
  {
   "cell_type": "code",
   "execution_count": 7,
   "id": "ba5fe2a0",
   "metadata": {
    "execution": {
     "iopub.execute_input": "2023-02-27T10:00:48.778466Z",
     "iopub.status.busy": "2023-02-27T10:00:48.777585Z",
     "iopub.status.idle": "2023-02-27T10:00:49.321483Z",
     "shell.execute_reply": "2023-02-27T10:00:49.320473Z"
    },
    "papermill": {
     "duration": 0.555559,
     "end_time": "2023-02-27T10:00:49.323579",
     "exception": false,
     "start_time": "2023-02-27T10:00:48.768020",
     "status": "completed"
    },
    "tags": []
   },
   "outputs": [
    {
     "data": {
      "image/png": "[encoded data removed]",
      "text/plain": [
       "<Figure size 720x360 with 1 Axes>"
      ]
     },
     "metadata": {
      "needs_background": "light"
     },
     "output_type": "display_data"
    },
    {
     "data": {
      "image/png": "[encoded data removed]",
      "text/plain": [
       "<Figure size 720x360 with 1 Axes>"
      ]
     },
     "metadata": {
      "needs_background": "light"
     },
     "output_type": "display_data"
    }
   ],
   "source": [
    "# Thinking about using log for numbers which had a cabin numbers and -1 for those that didn't, since log can't yield -1\n",
    "plt.figure(figsize=(10,5))\n",
    "plt.hist( np.where( mean_cabin_numbers>0, np.log(mean_cabin_numbers+0.01), -1), bins=50 ) # For some reason there are still 0s after the where '>0' filter so adding a +0.01\n",
    "plt.title(\"Log cabin numbers without 0s\")\n",
    "plt.grid()\n",
    "plt.show() \n",
    "\n",
    "# Started experimenting with log scaling after watching Ken Jee's video on this challenge https://www.youtube.com/watch?v=I3FBJdiExcg\n",
    "plt.figure(figsize=(10,5))\n",
    "plt.hist( np.log(mean_cabin_numbers[np.where((mean_cabin_numbers)>0)]), bins=50)\n",
    "plt.title(\"Log cabin numbers without 0s\")\n",
    "plt.grid()\n",
    "plt.show() "
   ]
  },
  {
   "cell_type": "code",
   "execution_count": 8,
   "id": "8850efb9",
   "metadata": {
    "execution": {
     "iopub.execute_input": "2023-02-27T10:00:49.343601Z",
     "iopub.status.busy": "2023-02-27T10:00:49.343308Z",
     "iopub.status.idle": "2023-02-27T10:00:49.356817Z",
     "shell.execute_reply": "2023-02-27T10:00:49.355692Z"
    },
    "papermill": {
     "duration": 0.025655,
     "end_time": "2023-02-27T10:00:49.358879",
     "exception": false,
     "start_time": "2023-02-27T10:00:49.333224",
     "status": "completed"
    },
    "tags": []
   },
   "outputs": [
    {
     "name": "stdout",
     "output_type": "stream",
     "text": [
      "A6\n",
      "B78\n",
      "C85\n",
      "D56\n",
      "E46\n",
      "F33\n",
      "G6\n",
      "T\n",
      "['A', 'B', 'C', 'D', 'E', 'F', 'G', 'T']\n"
     ]
    }
   ],
   "source": [
    "alphabets = ['A','B','C','D','E','F','G','H','I','J','K','L','M','N','O','P','Q','R','S','T','U','V','W','Y','Z']\n",
    "all_decks = []\n",
    "\n",
    "for alpha in alphabets:\n",
    "    for cabin in train_data.Cabin.dropna():\n",
    "        if alpha in cabin:\n",
    "            all_decks.append(alpha)\n",
    "            print(cabin)\n",
    "            break\n",
    "            \n",
    "print(all_decks)"
   ]
  },
  {
   "cell_type": "code",
   "execution_count": 9,
   "id": "84ad77b1",
   "metadata": {
    "execution": {
     "iopub.execute_input": "2023-02-27T10:00:49.378679Z",
     "iopub.status.busy": "2023-02-27T10:00:49.377785Z",
     "iopub.status.idle": "2023-02-27T10:00:49.386868Z",
     "shell.execute_reply": "2023-02-27T10:00:49.385651Z"
    },
    "papermill": {
     "duration": 0.021344,
     "end_time": "2023-02-27T10:00:49.389084",
     "exception": false,
     "start_time": "2023-02-27T10:00:49.367740",
     "status": "completed"
    },
    "tags": []
   },
   "outputs": [
    {
     "name": "stdout",
     "output_type": "stream",
     "text": [
      "[0. 1. 0. 1. 0. 0. 0. 0. 0. 0.]\n",
      "0     NaN\n",
      "1     C85\n",
      "2     NaN\n",
      "3    C123\n",
      "4     NaN\n",
      "5     NaN\n",
      "6     E46\n",
      "7     NaN\n",
      "8     NaN\n",
      "9     NaN\n",
      "Name: Cabin, dtype: object\n"
     ]
    }
   ],
   "source": [
    "# Used for data transforms\n",
    "def has_cabin_on_deck(df, deck_letter):\n",
    "    # Returns a np array which has 1s at indices where there deck_letter was found and 0 otherwise \n",
    "    ret = np.zeros(df.Cabin.size)\n",
    "    true_indices = [index for index, cabin in enumerate(df.Cabin) if deck_letter in str(cabin)] # str convert for nans, in is case sensitive ('a' of 'NaN' isn't the same as 'A') and there is no deck 'N' so this should be fine\n",
    "    ret[true_indices] = 1\n",
    "    return ret\n",
    "    \n",
    "print(has_cabin_on_deck(train_data, 'C')[:10])\n",
    "print(train_data.Cabin[:10])"
   ]
  },
  {
   "cell_type": "markdown",
   "id": "dabd6c14",
   "metadata": {
    "papermill": {
     "duration": 0.008613,
     "end_time": "2023-02-27T10:00:49.406943",
     "exception": false,
     "start_time": "2023-02-27T10:00:49.398330",
     "status": "completed"
    },
    "tags": []
   },
   "source": [
    "## Feature engineering with ticket data"
   ]
  },
  {
   "cell_type": "code",
   "execution_count": 10,
   "id": "349f7aac",
   "metadata": {
    "execution": {
     "iopub.execute_input": "2023-02-27T10:00:49.426792Z",
     "iopub.status.busy": "2023-02-27T10:00:49.425147Z",
     "iopub.status.idle": "2023-02-27T10:00:49.772695Z",
     "shell.execute_reply": "2023-02-27T10:00:49.771753Z"
    },
    "papermill": {
     "duration": 0.359261,
     "end_time": "2023-02-27T10:00:49.774951",
     "exception": false,
     "start_time": "2023-02-27T10:00:49.415690",
     "status": "completed"
    },
    "tags": []
   },
   "outputs": [
    {
     "name": "stdout",
     "output_type": "stream",
     "text": [
      "Number of unique tickets:  681\n",
      "4 missing ticket number values, will be filled with mean\n"
     ]
    },
    {
     "data": {
      "image/png": "[encoded data removed]",
      "text/plain": [
       "<Figure size 720x360 with 1 Axes>"
      ]
     },
     "metadata": {
      "needs_background": "light"
     },
     "output_type": "display_data"
    }
   ],
   "source": [
    "# Get all unique tickets\n",
    "unique_tickets = train_data.Ticket.unique()\n",
    "print(\"Number of unique tickets: \",len(unique_tickets))\n",
    "\n",
    "def get_ticket_numbers(df):\n",
    "    # Get ticket numbers\n",
    "    ticket_numbers = np.zeros(df.shape[0])\n",
    "\n",
    "    # Init dummy value \n",
    "    dummy_val = np.nan\n",
    "    \n",
    "    # Go through each ticket\n",
    "    for index, t in enumerate(df.Ticket):\n",
    "        ticket_number = ''\n",
    "        for splitted in t.split(\" \"):        \n",
    "            if splitted.isdigit():\n",
    "                ticket_number = splitted\n",
    "                break\n",
    "                \n",
    "        if ticket_number != '':\n",
    "            ticket_numbers[index] = ticket_number\n",
    "        else:\n",
    "            ticket_numbers[index] = dummy_val\n",
    "                \n",
    "    print( np.isnan(ticket_numbers).sum(), \"missing ticket number values, will be filled with mean\")\n",
    "                \n",
    "    # Fill nans with the mean\n",
    "    mean = np.mean( ticket_numbers[~np.isnan(ticket_numbers)] )\n",
    "    ticket_numbers[np.isnan(ticket_numbers)] = mean\n",
    "                \n",
    "    return ticket_numbers\n",
    "\n",
    "ticket_numbers = get_ticket_numbers(train_data)\n",
    "    \n",
    "log_ticket_numbers = np.log(ticket_numbers)\n",
    "plt.figure(figsize=(10,5))\n",
    "plt.hist( log_ticket_numbers-np.mean(log_ticket_numbers), bins=100)\n",
    "plt.title(\"Ticket numbers\")\n",
    "plt.grid()\n",
    "plt.show() \n",
    "\n",
    "# Looks like median would be a smarter fill value, due to the high frequency at some higher values"
   ]
  },
  {
   "cell_type": "code",
   "execution_count": 11,
   "id": "707f1acc",
   "metadata": {
    "execution": {
     "iopub.execute_input": "2023-02-27T10:00:49.794846Z",
     "iopub.status.busy": "2023-02-27T10:00:49.794537Z",
     "iopub.status.idle": "2023-02-27T10:00:49.805136Z",
     "shell.execute_reply": "2023-02-27T10:00:49.804046Z"
    },
    "papermill": {
     "duration": 0.023403,
     "end_time": "2023-02-27T10:00:49.807734",
     "exception": false,
     "start_time": "2023-02-27T10:00:49.784331",
     "status": "completed"
    },
    "tags": []
   },
   "outputs": [
    {
     "name": "stdout",
     "output_type": "stream",
     "text": [
      "Total number of ticket codes:  243\n",
      "PC            60\n",
      "C.A.          27\n",
      "2.            12\n",
      "STON/O        12\n",
      "A/5           10\n",
      "W./C.          9\n",
      "CA.            8\n",
      "SOTON/O.Q.     8\n",
      "A/5.           7\n",
      "SOTON/OQ       7\n",
      "STON/O2.       6\n",
      "CA             6\n",
      "F.C.C.         5\n",
      "C              5\n",
      "SC/PARIS       5\n",
      "S.O.C.         5\n",
      "SC/Paris       4\n",
      "LINE           4\n",
      "A/4            3\n",
      "A/4.           3\n",
      "S.O./P.P.      3\n",
      "SC/AH          3\n",
      "PP             3\n",
      "A.5.           2\n",
      "S.C./PARIS     2\n",
      "SOTON/O2       2\n",
      "P/PP           2\n",
      "A./5.          2\n",
      "WE/P           2\n",
      "Basle          1\n",
      "SO/C           1\n",
      "S.W./PP        1\n",
      "F.C.           1\n",
      "A/S            1\n",
      "SW/PP          1\n",
      "SC             1\n",
      "SCO/W          1\n",
      "W.E.P.         1\n",
      "W/C            1\n",
      "Fa             1\n",
      "S.O.P.         1\n",
      "S.C./A.4.      1\n",
      "A4.            1\n",
      "S.P.           1\n",
      "C.A./SOTON     1\n",
      "dtype: int64\n"
     ]
    }
   ],
   "source": [
    "# Look at what kind of non numeric data is in the tickets\n",
    "ticket_codes = []\n",
    "\n",
    "# Go through each ticket\n",
    "for t in train_data.Ticket:\n",
    "    for splitted in t.split(\" \"):\n",
    "        \n",
    "        # If any of the sections in the data is not a digit, save it\n",
    "        if not splitted.isdigit():\n",
    "            ticket_codes.append(splitted)\n",
    "            \n",
    "ticket_codes = pd.Series(ticket_codes)\n",
    "print(\"Total number of ticket codes: \",len(ticket_codes))\n",
    "print(ticket_codes.value_counts())\n",
    "\n",
    "# The usage of this data is left as an exercise for the reader ;D, \n",
    "# I wont be using this data now since there are so many missing values and unique values"
   ]
  },
  {
   "cell_type": "markdown",
   "id": "b9ca3707",
   "metadata": {
    "papermill": {
     "duration": 0.009139,
     "end_time": "2023-02-27T10:00:49.826453",
     "exception": false,
     "start_time": "2023-02-27T10:00:49.817314",
     "status": "completed"
    },
    "tags": []
   },
   "source": [
    "## Sex data"
   ]
  },
  {
   "cell_type": "code",
   "execution_count": 12,
   "id": "36534e66",
   "metadata": {
    "execution": {
     "iopub.execute_input": "2023-02-27T10:00:49.846175Z",
     "iopub.status.busy": "2023-02-27T10:00:49.845365Z",
     "iopub.status.idle": "2023-02-27T10:00:50.003778Z",
     "shell.execute_reply": "2023-02-27T10:00:50.002898Z"
    },
    "papermill": {
     "duration": 0.17045,
     "end_time": "2023-02-27T10:00:50.006046",
     "exception": false,
     "start_time": "2023-02-27T10:00:49.835596",
     "status": "completed"
    },
    "tags": []
   },
   "outputs": [
    {
     "data": {
      "image/png": "[encoded data removed]",
      "text/plain": [
       "<Figure size 720x360 with 1 Axes>"
      ]
     },
     "metadata": {
      "needs_background": "light"
     },
     "output_type": "display_data"
    }
   ],
   "source": [
    "male_count   = np.sum(train_data.Sex=='male')\n",
    "female_count = np.sum(train_data.Sex=='female')\n",
    "\n",
    "plt.figure(figsize=(10,5))\n",
    "# plt.hist(train_data.Pclass)\n",
    "plt.bar(0, male_count)\n",
    "plt.bar(1, female_count)\n",
    "plt.xticks([0,1], ['male','female'])\n",
    "plt.show()"
   ]
  },
  {
   "cell_type": "markdown",
   "id": "92f8b792",
   "metadata": {
    "papermill": {
     "duration": 0.009547,
     "end_time": "2023-02-27T10:00:50.025754",
     "exception": false,
     "start_time": "2023-02-27T10:00:50.016207",
     "status": "completed"
    },
    "tags": []
   },
   "source": [
    "## Age data"
   ]
  },
  {
   "cell_type": "code",
   "execution_count": 13,
   "id": "b1427903",
   "metadata": {
    "execution": {
     "iopub.execute_input": "2023-02-27T10:00:50.047054Z",
     "iopub.status.busy": "2023-02-27T10:00:50.046749Z",
     "iopub.status.idle": "2023-02-27T10:00:50.471640Z",
     "shell.execute_reply": "2023-02-27T10:00:50.470641Z"
    },
    "papermill": {
     "duration": 0.437838,
     "end_time": "2023-02-27T10:00:50.473793",
     "exception": false,
     "start_time": "2023-02-27T10:00:50.035955",
     "status": "completed"
    },
    "tags": []
   },
   "outputs": [
    {
     "name": "stdout",
     "output_type": "stream",
     "text": [
      "714  values in total\n"
     ]
    },
    {
     "data": {
      "image/png": "[encoded data removed]",
      "text/plain": [
       "<Figure size 720x360 with 1 Axes>"
      ]
     },
     "metadata": {
      "needs_background": "light"
     },
     "output_type": "display_data"
    }
   ],
   "source": [
    "print(train_data.Age.dropna().size,\" values in total\")\n",
    "\n",
    "plt.figure(figsize=(10,5))\n",
    "plt.hist(train_data.Age, bins=int(train_data.Age.max()))\n",
    "plt.title(\"Age\")\n",
    "plt.grid()\n",
    "plt.show() "
   ]
  },
  {
   "cell_type": "code",
   "execution_count": 14,
   "id": "a1c90d89",
   "metadata": {
    "execution": {
     "iopub.execute_input": "2023-02-27T10:00:50.495204Z",
     "iopub.status.busy": "2023-02-27T10:00:50.494595Z",
     "iopub.status.idle": "2023-02-27T10:00:50.804475Z",
     "shell.execute_reply": "2023-02-27T10:00:50.803065Z"
    },
    "papermill": {
     "duration": 0.323217,
     "end_time": "2023-02-27T10:00:50.807294",
     "exception": false,
     "start_time": "2023-02-27T10:00:50.484077",
     "status": "completed"
    },
    "tags": []
   },
   "outputs": [
    {
     "data": {
      "image/png": "[encoded data removed]",
      "text/plain": [
       "<Figure size 720x360 with 1 Axes>"
      ]
     },
     "metadata": {
      "needs_background": "light"
     },
     "output_type": "display_data"
    }
   ],
   "source": [
    "log_age = np.log(train_data.Age)\n",
    "\n",
    "plt.figure(figsize=(10,5))\n",
    "plt.hist( log_age-log_age.median(), bins=int(train_data.Age.max()))\n",
    "plt.title(\"Log Age\")\n",
    "plt.grid()\n",
    "plt.show()\n",
    "\n",
    "# Log transform appears to make the data more normally distributed"
   ]
  },
  {
   "cell_type": "markdown",
   "id": "62d534a5",
   "metadata": {
    "papermill": {
     "duration": 0.009468,
     "end_time": "2023-02-27T10:00:50.826995",
     "exception": false,
     "start_time": "2023-02-27T10:00:50.817527",
     "status": "completed"
    },
    "tags": []
   },
   "source": [
    "## Fare data"
   ]
  },
  {
   "cell_type": "code",
   "execution_count": 15,
   "id": "05dfc64f",
   "metadata": {
    "execution": {
     "iopub.execute_input": "2023-02-27T10:00:50.847640Z",
     "iopub.status.busy": "2023-02-27T10:00:50.847346Z",
     "iopub.status.idle": "2023-02-27T10:00:51.179911Z",
     "shell.execute_reply": "2023-02-27T10:00:51.178914Z"
    },
    "papermill": {
     "duration": 0.345241,
     "end_time": "2023-02-27T10:00:51.182069",
     "exception": false,
     "start_time": "2023-02-27T10:00:50.836828",
     "status": "completed"
    },
    "tags": []
   },
   "outputs": [
    {
     "data": {
      "image/png": "[encoded data removed]",
      "text/plain": [
       "<Figure size 720x360 with 1 Axes>"
      ]
     },
     "metadata": {
      "needs_background": "light"
     },
     "output_type": "display_data"
    }
   ],
   "source": [
    "plt.figure(figsize=(10,5))\n",
    "plt.hist(train_data.Fare, bins=100)\n",
    "plt.grid()\n",
    "plt.show()"
   ]
  },
  {
   "cell_type": "code",
   "execution_count": 16,
   "id": "e9c84098",
   "metadata": {
    "execution": {
     "iopub.execute_input": "2023-02-27T10:00:51.204700Z",
     "iopub.status.busy": "2023-02-27T10:00:51.204415Z",
     "iopub.status.idle": "2023-02-27T10:00:51.543923Z",
     "shell.execute_reply": "2023-02-27T10:00:51.542909Z"
    },
    "papermill": {
     "duration": 0.35382,
     "end_time": "2023-02-27T10:00:51.546127",
     "exception": false,
     "start_time": "2023-02-27T10:00:51.192307",
     "status": "completed"
    },
    "tags": []
   },
   "outputs": [
    {
     "data": {
      "image/png": "[encoded data removed]",
      "text/plain": [
       "<Figure size 720x360 with 1 Axes>"
      ]
     },
     "metadata": {
      "needs_background": "light"
     },
     "output_type": "display_data"
    }
   ],
   "source": [
    "log_fare = np.log(train_data.Fare+0.01) # Someone's fare was 0, so adding 0.01 to be able to do the log transform\n",
    "\n",
    "plt.figure(figsize=(10,5))\n",
    "plt.hist(log_fare-log_fare.mean(), bins=100)\n",
    "plt.grid()\n",
    "plt.show()\n",
    "# Log transform appears to make the data more normally distributed"
   ]
  },
  {
   "cell_type": "markdown",
   "id": "6e0942de",
   "metadata": {
    "papermill": {
     "duration": 0.010383,
     "end_time": "2023-02-27T10:00:51.567547",
     "exception": false,
     "start_time": "2023-02-27T10:00:51.557164",
     "status": "completed"
    },
    "tags": []
   },
   "source": [
    "## SibSp (siblings/spouses) data"
   ]
  },
  {
   "cell_type": "code",
   "execution_count": 17,
   "id": "f2ea9dd3",
   "metadata": {
    "execution": {
     "iopub.execute_input": "2023-02-27T10:00:51.590453Z",
     "iopub.status.busy": "2023-02-27T10:00:51.589966Z",
     "iopub.status.idle": "2023-02-27T10:00:51.802208Z",
     "shell.execute_reply": "2023-02-27T10:00:51.801348Z"
    },
    "papermill": {
     "duration": 0.225813,
     "end_time": "2023-02-27T10:00:51.804101",
     "exception": false,
     "start_time": "2023-02-27T10:00:51.578288",
     "status": "completed"
    },
    "tags": []
   },
   "outputs": [
    {
     "data": {
      "image/png": "[encoded data removed]",
      "text/plain": [
       "<Figure size 720x360 with 1 Axes>"
      ]
     },
     "metadata": {
      "needs_background": "light"
     },
     "output_type": "display_data"
    }
   ],
   "source": [
    "plt.figure(figsize=(10,5))\n",
    "plt.hist(train_data.SibSp-0.4, bins=train_data.SibSp.max(), width=0.8)\n",
    "plt.grid()\n",
    "plt.show()"
   ]
  },
  {
   "cell_type": "markdown",
   "id": "795ddf99",
   "metadata": {
    "papermill": {
     "duration": 0.010099,
     "end_time": "2023-02-27T10:00:51.824529",
     "exception": false,
     "start_time": "2023-02-27T10:00:51.814430",
     "status": "completed"
    },
    "tags": []
   },
   "source": [
    "## Parch (parent/children) data"
   ]
  },
  {
   "cell_type": "code",
   "execution_count": 18,
   "id": "54c9e76a",
   "metadata": {
    "execution": {
     "iopub.execute_input": "2023-02-27T10:00:51.847064Z",
     "iopub.status.busy": "2023-02-27T10:00:51.846240Z",
     "iopub.status.idle": "2023-02-27T10:00:52.045762Z",
     "shell.execute_reply": "2023-02-27T10:00:52.044904Z"
    },
    "papermill": {
     "duration": 0.213026,
     "end_time": "2023-02-27T10:00:52.047907",
     "exception": false,
     "start_time": "2023-02-27T10:00:51.834881",
     "status": "completed"
    },
    "tags": []
   },
   "outputs": [
    {
     "data": {
      "image/png": "[encoded data removed]",
      "text/plain": [
       "<Figure size 720x360 with 1 Axes>"
      ]
     },
     "metadata": {
      "needs_background": "light"
     },
     "output_type": "display_data"
    }
   ],
   "source": [
    "plt.figure(figsize=(10,5))\n",
    "plt.hist(train_data.Parch-0.4, bins=train_data.Parch.max(), width=0.8)\n",
    "plt.grid()\n",
    "plt.show()"
   ]
  },
  {
   "cell_type": "code",
   "execution_count": 19,
   "id": "c9ceda27",
   "metadata": {
    "execution": {
     "iopub.execute_input": "2023-02-27T10:00:52.069983Z",
     "iopub.status.busy": "2023-02-27T10:00:52.069713Z",
     "iopub.status.idle": "2023-02-27T10:00:52.265530Z",
     "shell.execute_reply": "2023-02-27T10:00:52.264544Z"
    },
    "papermill": {
     "duration": 0.209255,
     "end_time": "2023-02-27T10:00:52.267810",
     "exception": false,
     "start_time": "2023-02-27T10:00:52.058555",
     "status": "completed"
    },
    "tags": []
   },
   "outputs": [
    {
     "data": {
      "image/png": "[encoded data removed]",
      "text/plain": [
       "<Figure size 720x360 with 1 Axes>"
      ]
     },
     "metadata": {
      "needs_background": "light"
     },
     "output_type": "display_data"
    }
   ],
   "source": [
    "# Might try 1/(x+1) as a normalizing method some time\n",
    "plt.figure(figsize=(10,5))\n",
    "plt.hist( 1/(1+train_data.Parch), bins=train_data.Parch.max(), width=0.8)\n",
    "plt.grid()\n",
    "plt.show()"
   ]
  },
  {
   "cell_type": "code",
   "execution_count": 20,
   "id": "1b6c0995",
   "metadata": {
    "execution": {
     "iopub.execute_input": "2023-02-27T10:00:52.290465Z",
     "iopub.status.busy": "2023-02-27T10:00:52.290172Z",
     "iopub.status.idle": "2023-02-27T10:00:52.624853Z",
     "shell.execute_reply": "2023-02-27T10:00:52.623891Z"
    },
    "papermill": {
     "duration": 0.348784,
     "end_time": "2023-02-27T10:00:52.626975",
     "exception": false,
     "start_time": "2023-02-27T10:00:52.278191",
     "status": "completed"
    },
    "tags": []
   },
   "outputs": [
    {
     "data": {
      "image/png": "[encoded data removed]",
      "text/plain": [
       "<Figure size 720x360 with 1 Axes>"
      ]
     },
     "metadata": {
      "needs_background": "light"
     },
     "output_type": "display_data"
    }
   ],
   "source": [
    "plt.figure(figsize=(10,5))\n",
    "plt.hist(np.log( 1/(1+train_data.Fare) ), bins=100)\n",
    "plt.grid()\n",
    "plt.show()"
   ]
  },
  {
   "cell_type": "markdown",
   "id": "572649c7",
   "metadata": {
    "papermill": {
     "duration": 0.01062,
     "end_time": "2023-02-27T10:00:52.648797",
     "exception": false,
     "start_time": "2023-02-27T10:00:52.638177",
     "status": "completed"
    },
    "tags": []
   },
   "source": [
    "## Name data"
   ]
  },
  {
   "cell_type": "code",
   "execution_count": 21,
   "id": "279aa85c",
   "metadata": {
    "execution": {
     "iopub.execute_input": "2023-02-27T10:00:52.671749Z",
     "iopub.status.busy": "2023-02-27T10:00:52.670947Z",
     "iopub.status.idle": "2023-02-27T10:00:52.872793Z",
     "shell.execute_reply": "2023-02-27T10:00:52.871953Z"
    },
    "papermill": {
     "duration": 0.215523,
     "end_time": "2023-02-27T10:00:52.874901",
     "exception": false,
     "start_time": "2023-02-27T10:00:52.659378",
     "status": "completed"
    },
    "tags": []
   },
   "outputs": [
    {
     "data": {
      "image/png": "[encoded data removed]",
      "text/plain": [
       "<Figure size 720x360 with 1 Axes>"
      ]
     },
     "metadata": {
      "needs_background": "light"
     },
     "output_type": "display_data"
    }
   ],
   "source": [
    "# Transform names to how many words are in them, excluding nicknames in \"\" and companions in ()\n",
    "def get_name_lengths(df):\n",
    "    return np.array( [ len( n.split('\"')[0].split('(')[0].split(\" \") ) for n in df.Name ] )\n",
    "\n",
    "name_lengths = get_name_lengths(train_data)\n",
    "\n",
    "plt.figure(figsize=(10,5))\n",
    "plt.hist( (name_lengths-np.mean(name_lengths)) )\n",
    "plt.grid()\n",
    "plt.show()\n",
    "\n",
    "# This might not be a good feature as royalty might have more names in general"
   ]
  },
  {
   "cell_type": "markdown",
   "id": "60bef454",
   "metadata": {
    "papermill": {
     "duration": 0.010678,
     "end_time": "2023-02-27T10:00:52.896766",
     "exception": false,
     "start_time": "2023-02-27T10:00:52.886088",
     "status": "completed"
    },
    "tags": []
   },
   "source": [
    "# Transform data"
   ]
  },
  {
   "cell_type": "code",
   "execution_count": 22,
   "id": "b109af9e",
   "metadata": {
    "execution": {
     "iopub.execute_input": "2023-02-27T10:00:52.920370Z",
     "iopub.status.busy": "2023-02-27T10:00:52.920091Z",
     "iopub.status.idle": "2023-02-27T10:00:52.993433Z",
     "shell.execute_reply": "2023-02-27T10:00:52.992228Z"
    },
    "papermill": {
     "duration": 0.089532,
     "end_time": "2023-02-27T10:00:52.997063",
     "exception": false,
     "start_time": "2023-02-27T10:00:52.907531",
     "status": "completed"
    },
    "tags": []
   },
   "outputs": [
    {
     "name": "stdout",
     "output_type": "stream",
     "text": [
      "4 missing ticket number values, will be filled with mean\n",
      "4 missing ticket number values, will be filled with mean\n"
     ]
    },
    {
     "name": "stderr",
     "output_type": "stream",
     "text": [
      "/opt/conda/lib/python3.7/site-packages/ipykernel_launcher.py:35: RuntimeWarning: divide by zero encountered in log\n",
      "/opt/conda/lib/python3.7/site-packages/ipykernel_launcher.py:37: RuntimeWarning: invalid value encountered in log\n"
     ]
    },
    {
     "data": {
      "text/html": [
       "<div>\n",
       "<style scoped>\n",
       "    .dataframe tbody tr th:only-of-type {\n",
       "        vertical-align: middle;\n",
       "    }\n",
       "\n",
       "    .dataframe tbody tr th {\n",
       "        vertical-align: top;\n",
       "    }\n",
       "\n",
       "    .dataframe thead th {\n",
       "        text-align: right;\n",
       "    }\n",
       "</style>\n",
       "<table border=\"1\" class=\"dataframe\">\n",
       "  <thead>\n",
       "    <tr style=\"text-align: right;\">\n",
       "      <th></th>\n",
       "      <th>survived</th>\n",
       "      <th>in_class_1</th>\n",
       "      <th>in_class_2</th>\n",
       "      <th>in_class_3</th>\n",
       "      <th>sex</th>\n",
       "      <th>sib_sp</th>\n",
       "      <th>parch</th>\n",
       "      <th>fare</th>\n",
       "      <th>embarked_from_S</th>\n",
       "      <th>embarked_from_C</th>\n",
       "      <th>...</th>\n",
       "      <th>cabin_on_deck_A</th>\n",
       "      <th>cabin_on_deck_B</th>\n",
       "      <th>cabin_on_deck_C</th>\n",
       "      <th>cabin_on_deck_D</th>\n",
       "      <th>cabin_on_deck_E</th>\n",
       "      <th>cabin_on_deck_F</th>\n",
       "      <th>cabin_on_deck_G</th>\n",
       "      <th>cabin_on_deck_T</th>\n",
       "      <th>name_length</th>\n",
       "      <th>family_size</th>\n",
       "    </tr>\n",
       "  </thead>\n",
       "  <tbody>\n",
       "    <tr>\n",
       "      <th>0</th>\n",
       "      <td>0</td>\n",
       "      <td>0</td>\n",
       "      <td>0</td>\n",
       "      <td>1</td>\n",
       "      <td>1</td>\n",
       "      <td>0.125</td>\n",
       "      <td>0.0</td>\n",
       "      <td>-0.834657</td>\n",
       "      <td>1</td>\n",
       "      <td>0</td>\n",
       "      <td>...</td>\n",
       "      <td>0.0</td>\n",
       "      <td>0.0</td>\n",
       "      <td>0.0</td>\n",
       "      <td>0.0</td>\n",
       "      <td>0.0</td>\n",
       "      <td>0.0</td>\n",
       "      <td>0.0</td>\n",
       "      <td>0.0</td>\n",
       "      <td>0.171717</td>\n",
       "      <td>0.181818</td>\n",
       "    </tr>\n",
       "    <tr>\n",
       "      <th>1</th>\n",
       "      <td>1</td>\n",
       "      <td>1</td>\n",
       "      <td>0</td>\n",
       "      <td>0</td>\n",
       "      <td>0</td>\n",
       "      <td>0.125</td>\n",
       "      <td>0.0</td>\n",
       "      <td>1.449766</td>\n",
       "      <td>0</td>\n",
       "      <td>1</td>\n",
       "      <td>...</td>\n",
       "      <td>0.0</td>\n",
       "      <td>0.0</td>\n",
       "      <td>1.0</td>\n",
       "      <td>0.0</td>\n",
       "      <td>0.0</td>\n",
       "      <td>0.0</td>\n",
       "      <td>0.0</td>\n",
       "      <td>0.0</td>\n",
       "      <td>1.171717</td>\n",
       "      <td>0.181818</td>\n",
       "    </tr>\n",
       "    <tr>\n",
       "      <th>2</th>\n",
       "      <td>1</td>\n",
       "      <td>0</td>\n",
       "      <td>0</td>\n",
       "      <td>1</td>\n",
       "      <td>0</td>\n",
       "      <td>0.000</td>\n",
       "      <td>0.0</td>\n",
       "      <td>-0.745753</td>\n",
       "      <td>1</td>\n",
       "      <td>0</td>\n",
       "      <td>...</td>\n",
       "      <td>0.0</td>\n",
       "      <td>0.0</td>\n",
       "      <td>0.0</td>\n",
       "      <td>0.0</td>\n",
       "      <td>0.0</td>\n",
       "      <td>0.0</td>\n",
       "      <td>0.0</td>\n",
       "      <td>0.0</td>\n",
       "      <td>-0.828283</td>\n",
       "      <td>0.090909</td>\n",
       "    </tr>\n",
       "    <tr>\n",
       "      <th>3</th>\n",
       "      <td>1</td>\n",
       "      <td>1</td>\n",
       "      <td>0</td>\n",
       "      <td>0</td>\n",
       "      <td>0</td>\n",
       "      <td>0.125</td>\n",
       "      <td>0.0</td>\n",
       "      <td>1.155329</td>\n",
       "      <td>1</td>\n",
       "      <td>0</td>\n",
       "      <td>...</td>\n",
       "      <td>0.0</td>\n",
       "      <td>0.0</td>\n",
       "      <td>1.0</td>\n",
       "      <td>0.0</td>\n",
       "      <td>0.0</td>\n",
       "      <td>0.0</td>\n",
       "      <td>0.0</td>\n",
       "      <td>0.0</td>\n",
       "      <td>1.171717</td>\n",
       "      <td>0.181818</td>\n",
       "    </tr>\n",
       "    <tr>\n",
       "      <th>4</th>\n",
       "      <td>0</td>\n",
       "      <td>0</td>\n",
       "      <td>0</td>\n",
       "      <td>1</td>\n",
       "      <td>1</td>\n",
       "      <td>0.000</td>\n",
       "      <td>0.0</td>\n",
       "      <td>-0.730123</td>\n",
       "      <td>1</td>\n",
       "      <td>0</td>\n",
       "      <td>...</td>\n",
       "      <td>0.0</td>\n",
       "      <td>0.0</td>\n",
       "      <td>0.0</td>\n",
       "      <td>0.0</td>\n",
       "      <td>0.0</td>\n",
       "      <td>0.0</td>\n",
       "      <td>0.0</td>\n",
       "      <td>0.0</td>\n",
       "      <td>0.171717</td>\n",
       "      <td>0.090909</td>\n",
       "    </tr>\n",
       "  </tbody>\n",
       "</table>\n",
       "<p>5 rows × 24 columns</p>\n",
       "</div>"
      ],
      "text/plain": [
       "   survived  in_class_1  in_class_2  in_class_3  sex  sib_sp  parch      fare  \\\n",
       "0         0           0           0           1    1   0.125    0.0 -0.834657   \n",
       "1         1           1           0           0    0   0.125    0.0  1.449766   \n",
       "2         1           0           0           1    0   0.000    0.0 -0.745753   \n",
       "3         1           1           0           0    0   0.125    0.0  1.155329   \n",
       "4         0           0           0           1    1   0.000    0.0 -0.730123   \n",
       "\n",
       "   embarked_from_S  embarked_from_C  ...  cabin_on_deck_A  cabin_on_deck_B  \\\n",
       "0                1                0  ...              0.0              0.0   \n",
       "1                0                1  ...              0.0              0.0   \n",
       "2                1                0  ...              0.0              0.0   \n",
       "3                1                0  ...              0.0              0.0   \n",
       "4                1                0  ...              0.0              0.0   \n",
       "\n",
       "   cabin_on_deck_C  cabin_on_deck_D  cabin_on_deck_E  cabin_on_deck_F  \\\n",
       "0              0.0              0.0              0.0              0.0   \n",
       "1              1.0              0.0              0.0              0.0   \n",
       "2              0.0              0.0              0.0              0.0   \n",
       "3              1.0              0.0              0.0              0.0   \n",
       "4              0.0              0.0              0.0              0.0   \n",
       "\n",
       "   cabin_on_deck_G  cabin_on_deck_T  name_length  family_size  \n",
       "0              0.0              0.0     0.171717     0.181818  \n",
       "1              0.0              0.0     1.171717     0.181818  \n",
       "2              0.0              0.0    -0.828283     0.090909  \n",
       "3              0.0              0.0     1.171717     0.181818  \n",
       "4              0.0              0.0     0.171717     0.090909  \n",
       "\n",
       "[5 rows x 24 columns]"
      ]
     },
     "execution_count": 22,
     "metadata": {},
     "output_type": "execute_result"
    }
   ],
   "source": [
    "# Make a DataFrame where each row is one nn input \n",
    "def transform_df(data_df, scaling_df, training=True):\n",
    "    \n",
    "    # Using separate 'data_df' and 'scaling_df'. In training the same df is used for both, but when testing 'data_df' is\n",
    "    # the test data and 'scaling_df' is the training data. This is done to keep the input scaling the same for the nn.\n",
    "    \n",
    "    # I started experimenting with log scaling after watching Ken Jee's video on this challenge https://www.youtube.com/watch?v=I3FBJdiExcg\n",
    "    \n",
    "    # Initialize an empty dataframe\n",
    "    transformed_df = pd.DataFrame()\n",
    "    \n",
    "    # Skip true labels for test data since there aren't any\n",
    "    if training:\n",
    "        transformed_df['survived']    = data_df.Survived # Target labels\n",
    "        \n",
    "    # TODO divide with std\n",
    "        \n",
    "    # Do data transforms\n",
    "    transformed_df['in_class_1']      = np.where(data_df.Pclass==1, 1, 0) # One hot class\n",
    "    transformed_df['in_class_2']      = np.where(data_df.Pclass==2, 1, 0) # One hot class\n",
    "    transformed_df['in_class_3']      = np.where(data_df.Pclass==3, 1, 0) # One hot class\n",
    "    transformed_df['sex']             = np.where(data_df.Sex=='male', 1, 0) # Binary activation\n",
    "    transformed_df['sib_sp']          = data_df.SibSp/scaling_df.SibSp.max() # Normalized with scaling_df maximum\n",
    "    transformed_df['parch']           = data_df.Parch/scaling_df.Parch.max() # Normalized with scaling_df maximum\n",
    "    transformed_df['fare']            = np.log(data_df.Fare+0.01)-np.mean(np.log(scaling_df.Fare+0.01)) # Log scaled and mean shifted, see above data exploration on fare\n",
    "    transformed_df['embarked_from_S'] = np.where(data_df.Embarked=='S', 1, 0) # One hot class, the 2 nan values will be [0,0,0]\n",
    "    transformed_df['embarked_from_C'] = np.where(data_df.Embarked=='C', 1, 0) # One hot class\n",
    "    transformed_df['embarked_from_Q'] = np.where(data_df.Embarked=='Q', 1, 0) # One hot class\n",
    "    \n",
    "    # New input values\n",
    "    transformed_df['age']             = np.log(data_df.Age+0.01)-np.mean(np.log(scaling_df.Age+0.01)) # Log scaled and mean shifted (lead to all nans and this was a quick fix with minute chage), see above data exploration on age\n",
    "    transformed_df['ticket_number']   = np.log(get_ticket_numbers(data_df))-np.mean(np.log(get_ticket_numbers(scaling_df))) # Log scaled and mean shifted, see above data exploration on ticket number\n",
    "    \n",
    "    # Cabin number, log where values were found and -1 otherwise\n",
    "    cabin_numbers = np.log(get_cabin_numbers(data_df))\n",
    "#     transformed_df['cabin_number'] = np.where( cabin_numbers>0, np.log(cabin_numbers+0.01), -1)\n",
    "    transformed_df['cabin_number'] = np.where( cabin_numbers>0, np.log(cabin_numbers+0.01), np.nan) # Fill 0s (nans, see 'get_cabin_numbers') with nans which will be filled with the mean\n",
    "    \n",
    "    # All decks are ['A', 'B', 'C', 'D', 'E', 'F', 'G', 'T']\n",
    "    transformed_df['cabin_on_deck_A'] = has_cabin_on_deck(data_df, \"A\")\n",
    "    transformed_df['cabin_on_deck_B'] = has_cabin_on_deck(data_df, \"B\")\n",
    "    transformed_df['cabin_on_deck_C'] = has_cabin_on_deck(data_df, \"C\")\n",
    "    transformed_df['cabin_on_deck_D'] = has_cabin_on_deck(data_df, \"D\")\n",
    "    transformed_df['cabin_on_deck_E'] = has_cabin_on_deck(data_df, \"E\")\n",
    "    transformed_df['cabin_on_deck_F'] = has_cabin_on_deck(data_df, \"F\")\n",
    "    transformed_df['cabin_on_deck_G'] = has_cabin_on_deck(data_df, \"G\")\n",
    "    transformed_df['cabin_on_deck_T'] = has_cabin_on_deck(data_df, \"T\")\n",
    "    \n",
    "    # Name length data\n",
    "    transformed_df['name_length'] = get_name_lengths(data_df)-np.mean(get_name_lengths(scaling_df))\n",
    "    \n",
    "    # Family size, seemed important but simple to implement feature, ref: https://www.kaggle.com/code/vinothan/titanic-model-with-90-accuracy \n",
    "    transformed_df['family_size'] = (data_df.SibSp + data_df.Parch + 1)/(scaling_df.SibSp + scaling_df.Parch + 1).max()\n",
    "    \n",
    "    # Go through columns and fill nan values with the mean of the column\n",
    "    for c in transformed_df.columns:\n",
    "        transformed_df[c].fillna(transformed_df[c].mean(), inplace=True)\n",
    "    \n",
    "    return transformed_df\n",
    "\n",
    "# Get training data dataframe\n",
    "nn_data = transform_df(train_data, train_data)\n",
    "nn_data.head()"
   ]
  },
  {
   "cell_type": "markdown",
   "id": "5988be86",
   "metadata": {
    "papermill": {
     "duration": 0.01097,
     "end_time": "2023-02-27T10:00:53.019719",
     "exception": false,
     "start_time": "2023-02-27T10:00:53.008749",
     "status": "completed"
    },
    "tags": []
   },
   "source": [
    "# Build neural network"
   ]
  },
  {
   "cell_type": "code",
   "execution_count": 23,
   "id": "673aebff",
   "metadata": {
    "execution": {
     "iopub.execute_input": "2023-02-27T10:00:53.042862Z",
     "iopub.status.busy": "2023-02-27T10:00:53.042593Z",
     "iopub.status.idle": "2023-02-27T10:00:53.154833Z",
     "shell.execute_reply": "2023-02-27T10:00:53.153785Z"
    },
    "papermill": {
     "duration": 0.127087,
     "end_time": "2023-02-27T10:00:53.157786",
     "exception": false,
     "start_time": "2023-02-27T10:00:53.030699",
     "status": "completed"
    },
    "tags": []
   },
   "outputs": [
    {
     "name": "stdout",
     "output_type": "stream",
     "text": [
      "cuda:0\n"
     ]
    }
   ],
   "source": [
    "# Define device which net is trained on\n",
    "device = torch.device(\"cuda:0\" if torch.cuda.is_available() else \"cpu\")\n",
    "\n",
    "# See if GPU ('cuda') is available\n",
    "print(device)"
   ]
  },
  {
   "cell_type": "code",
   "execution_count": 24,
   "id": "3b4285dd",
   "metadata": {
    "execution": {
     "iopub.execute_input": "2023-02-27T10:00:53.183035Z",
     "iopub.status.busy": "2023-02-27T10:00:53.182102Z",
     "iopub.status.idle": "2023-02-27T10:00:53.192888Z",
     "shell.execute_reply": "2023-02-27T10:00:53.191988Z"
    },
    "papermill": {
     "duration": 0.025349,
     "end_time": "2023-02-27T10:00:53.195252",
     "exception": false,
     "start_time": "2023-02-27T10:00:53.169903",
     "status": "completed"
    },
    "tags": []
   },
   "outputs": [],
   "source": [
    "# How many values are inputted to the neural net. -1 is for the target label\n",
    "input_size = nn_data.shape[1]-1\n",
    "hidden_size = 30\n",
    "DROPOUT = 0.5\n",
    "\n",
    "# Build neural net\n",
    "model = nn.Sequential(\n",
    "            nn.Linear(input_size,hidden_size),\n",
    "            nn.Sigmoid(),\n",
    "            nn.LayerNorm(hidden_size),\n",
    "            nn.Dropout(DROPOUT),\n",
    "    \n",
    "            nn.Linear(hidden_size,hidden_size),\n",
    "            nn.Sigmoid(),\n",
    "            nn.LayerNorm(hidden_size),\n",
    "            nn.Dropout(DROPOUT),\n",
    "    \n",
    "            nn.Linear(hidden_size,hidden_size),\n",
    "            nn.Sigmoid(),\n",
    "            nn.LayerNorm(hidden_size),\n",
    "            nn.Dropout(DROPOUT),\n",
    "    \n",
    "            nn.Linear(hidden_size,hidden_size),\n",
    "            nn.Sigmoid(),\n",
    "            nn.LayerNorm(hidden_size),\n",
    "            nn.Dropout(DROPOUT),\n",
    "    \n",
    "            nn.Linear(hidden_size,1),\n",
    "            nn.Sigmoid()\n",
    ")"
   ]
  },
  {
   "cell_type": "code",
   "execution_count": 25,
   "id": "aa67fcf0",
   "metadata": {
    "execution": {
     "iopub.execute_input": "2023-02-27T10:00:53.221891Z",
     "iopub.status.busy": "2023-02-27T10:00:53.220986Z",
     "iopub.status.idle": "2023-02-27T10:00:56.201720Z",
     "shell.execute_reply": "2023-02-27T10:00:56.200560Z"
    },
    "papermill": {
     "duration": 2.996528,
     "end_time": "2023-02-27T10:00:56.204392",
     "exception": false,
     "start_time": "2023-02-27T10:00:53.207864",
     "status": "completed"
    },
    "tags": []
   },
   "outputs": [],
   "source": [
    "# Define model accuracy\n",
    "torch_precision = torch.float64 # torch.float32 # \n",
    "\n",
    "# Set precision  \n",
    "if torch_precision == torch.float32:\n",
    "    model = model.float()\n",
    "elif torch_precision == torch.float64:\n",
    "    model = model.double()\n",
    "\n",
    "# Set processing to device (cpu or gpu==cuda)\n",
    "model = model.to(device)\n",
    "\n",
    "# Initialize loss function and optimizer\n",
    "criterion = nn.BCELoss()\n",
    "learning_rate = 0.003 # 0.001 # Default lr, but it is nice to know where lr start since using a lr_scheduler\n",
    "optimizer = torch.optim.Adam(model.parameters(), lr=learning_rate)\n",
    "\n",
    "# Learning rate scheduler reduces the learning rate on plateau\n",
    "scheduler = torch.optim.lr_scheduler.ReduceLROnPlateau(optimizer, \n",
    "                                                       mode='min', \n",
    "                                                       factor=0.5, \n",
    "                                                       patience=30, \n",
    "                                                       threshold=0.0001, \n",
    "                                                       threshold_mode='rel', \n",
    "                                                       cooldown=0, min_lr=learning_rate/40, \n",
    "                                                       eps=1e-08, \n",
    "                                                       verbose=True)"
   ]
  },
  {
   "cell_type": "code",
   "execution_count": 26,
   "id": "dc2b4ed3",
   "metadata": {
    "execution": {
     "iopub.execute_input": "2023-02-27T10:00:56.233887Z",
     "iopub.status.busy": "2023-02-27T10:00:56.233561Z",
     "iopub.status.idle": "2023-02-27T10:00:56.239340Z",
     "shell.execute_reply": "2023-02-27T10:00:56.238243Z"
    },
    "papermill": {
     "duration": 0.023764,
     "end_time": "2023-02-27T10:00:56.241707",
     "exception": false,
     "start_time": "2023-02-27T10:00:56.217943",
     "status": "completed"
    },
    "tags": []
   },
   "outputs": [],
   "source": [
    "# Used to reset learning rate mid training\n",
    "def set_lr(optimizer, lr):\n",
    "    for param_group in optimizer.param_groups:\n",
    "        param_group['lr'] = lr\n",
    "        \n",
    "# Used for collecting lr which will be visualized in the loss plot \n",
    "def get_lr(optimizer):\n",
    "    for param_group in optimizer.param_groups:\n",
    "        return param_group['lr']"
   ]
  },
  {
   "cell_type": "markdown",
   "id": "afc6b27a",
   "metadata": {
    "papermill": {
     "duration": 0.010873,
     "end_time": "2023-02-27T10:00:56.264112",
     "exception": false,
     "start_time": "2023-02-27T10:00:56.253239",
     "status": "completed"
    },
    "tags": []
   },
   "source": [
    "# Train neural network"
   ]
  },
  {
   "cell_type": "code",
   "execution_count": 27,
   "id": "387f059a",
   "metadata": {
    "execution": {
     "iopub.execute_input": "2023-02-27T10:00:56.288476Z",
     "iopub.status.busy": "2023-02-27T10:00:56.287620Z",
     "iopub.status.idle": "2023-02-27T10:06:05.254895Z",
     "shell.execute_reply": "2023-02-27T10:06:05.253922Z"
    },
    "papermill": {
     "duration": 308.982257,
     "end_time": "2023-02-27T10:06:05.257652",
     "exception": false,
     "start_time": "2023-02-27T10:00:56.275395",
     "status": "completed"
    },
    "tags": []
   },
   "outputs": [
    {
     "name": "stdout",
     "output_type": "stream",
     "text": [
      "Epoch 00144: reducing learning rate of group 0 to 1.5000e-03.\n",
      "Epoch 00175: reducing learning rate of group 0 to 7.5000e-04.\n",
      "Epoch 00292: reducing learning rate of group 0 to 3.7500e-04.\n",
      "Epoch 00324: reducing learning rate of group 0 to 1.8750e-04.\n",
      "Epoch 00355: reducing learning rate of group 0 to 9.3750e-05.\n",
      "Epoch 00386: reducing learning rate of group 0 to 7.5000e-05.\n",
      "Epoch 00562: reducing learning rate of group 0 to 1.5000e-03.\n",
      "Epoch 00593: reducing learning rate of group 0 to 7.5000e-04.\n",
      "Epoch 00624: reducing learning rate of group 0 to 3.7500e-04.\n",
      "Epoch 00655: reducing learning rate of group 0 to 1.8750e-04.\n",
      "Epoch 00686: reducing learning rate of group 0 to 9.3750e-05.\n",
      "Epoch 00717: reducing learning rate of group 0 to 7.5000e-05.\n",
      "Epoch 01121: reducing learning rate of group 0 to 1.5000e-03.\n",
      "Epoch 01152: reducing learning rate of group 0 to 7.5000e-04.\n",
      "Epoch 01183: reducing learning rate of group 0 to 3.7500e-04.\n",
      "Epoch 01245: reducing learning rate of group 0 to 1.8750e-04.\n",
      "Epoch 01276: reducing learning rate of group 0 to 9.3750e-05.\n",
      "Epoch 01307: reducing learning rate of group 0 to 7.5000e-05.\n",
      "Epoch 01666: reducing learning rate of group 0 to 1.5000e-03.\n",
      "Epoch 01697: reducing learning rate of group 0 to 7.5000e-04.\n",
      "Epoch 01728: reducing learning rate of group 0 to 3.7500e-04.\n",
      "Epoch 01759: reducing learning rate of group 0 to 1.8750e-04.\n",
      "Epoch 01790: reducing learning rate of group 0 to 9.3750e-05.\n",
      "Epoch 01821: reducing learning rate of group 0 to 7.5000e-05.\n",
      "Epoch 02193: reducing learning rate of group 0 to 1.5000e-03.\n",
      "Epoch 02224: reducing learning rate of group 0 to 7.5000e-04.\n",
      "Epoch 02255: reducing learning rate of group 0 to 3.7500e-04.\n",
      "Epoch 02286: reducing learning rate of group 0 to 1.8750e-04.\n",
      "Epoch 02317: reducing learning rate of group 0 to 9.3750e-05.\n",
      "Epoch 02348: reducing learning rate of group 0 to 7.5000e-05.\n",
      "Epoch 02746: reducing learning rate of group 0 to 1.5000e-03.\n",
      "Epoch 02777: reducing learning rate of group 0 to 7.5000e-04.\n",
      "Epoch 02808: reducing learning rate of group 0 to 3.7500e-04.\n",
      "Epoch 02839: reducing learning rate of group 0 to 1.8750e-04.\n",
      "Epoch 02870: reducing learning rate of group 0 to 9.3750e-05.\n",
      "Epoch 02901: reducing learning rate of group 0 to 7.5000e-05.\n",
      "Epoch 03273: reducing learning rate of group 0 to 1.5000e-03.\n",
      "Epoch 03304: reducing learning rate of group 0 to 7.5000e-04.\n",
      "Epoch 03335: reducing learning rate of group 0 to 3.7500e-04.\n",
      "Epoch 03366: reducing learning rate of group 0 to 1.8750e-04.\n",
      "Epoch 03397: reducing learning rate of group 0 to 9.3750e-05.\n",
      "Epoch 03428: reducing learning rate of group 0 to 7.5000e-05.\n",
      "Epoch 03831: reducing learning rate of group 0 to 1.5000e-03.\n",
      "Epoch 03862: reducing learning rate of group 0 to 7.5000e-04.\n",
      "Epoch 03893: reducing learning rate of group 0 to 3.7500e-04.\n",
      "Epoch 03924: reducing learning rate of group 0 to 1.8750e-04.\n",
      "Epoch 03955: reducing learning rate of group 0 to 9.3750e-05.\n",
      "Epoch 03986: reducing learning rate of group 0 to 7.5000e-05.\n",
      "Epoch 04375: reducing learning rate of group 0 to 1.5000e-03.\n",
      "Epoch 04406: reducing learning rate of group 0 to 7.5000e-04.\n",
      "Epoch 04437: reducing learning rate of group 0 to 3.7500e-04.\n",
      "Epoch 04468: reducing learning rate of group 0 to 1.8750e-04.\n",
      "Epoch 04499: reducing learning rate of group 0 to 9.3750e-05.\n",
      "Epoch 04530: reducing learning rate of group 0 to 7.5000e-05.\n",
      "Epoch 04909: reducing learning rate of group 0 to 1.5000e-03.\n",
      "Epoch 04940: reducing learning rate of group 0 to 7.5000e-04.\n",
      "Epoch 04971: reducing learning rate of group 0 to 3.7500e-04.\n",
      "Epoch 05002: reducing learning rate of group 0 to 1.8750e-04.\n",
      "Epoch 05033: reducing learning rate of group 0 to 9.3750e-05.\n",
      "Epoch 05064: reducing learning rate of group 0 to 7.5000e-05.\n",
      "Epoch 05455: reducing learning rate of group 0 to 1.5000e-03.\n",
      "Epoch 05486: reducing learning rate of group 0 to 7.5000e-04.\n",
      "Epoch 05517: reducing learning rate of group 0 to 3.7500e-04.\n",
      "Epoch 05548: reducing learning rate of group 0 to 1.8750e-04.\n",
      "Epoch 05579: reducing learning rate of group 0 to 9.3750e-05.\n",
      "Epoch 05610: reducing learning rate of group 0 to 7.5000e-05.\n"
     ]
    },
    {
     "data": {
      "image/png": "[encoded data removed]",
      "text/plain": [
       "<Figure size 1152x576 with 2 Axes>"
      ]
     },
     "metadata": {
      "needs_background": "light"
     },
     "output_type": "display_data"
    }
   ],
   "source": [
    "# Take all indices, mix them, and read them in batch size chunks. This way neural net data is mixed\n",
    "num_indices = nn_data.shape[0]\n",
    "indices = np.arange(num_indices)\n",
    "\n",
    "# Training parameters\n",
    "BATCH_SIZE = 64\n",
    "EPOCHS = 6000\n",
    "LEARNING_RATE_RESETS = 10\n",
    "\n",
    "# List for training losses\n",
    "training_losses = []\n",
    "\n",
    "# Variable for lowest loss, used for saving the best parameters\n",
    "lowest_loss = np.inf\n",
    "\n",
    "# Collect learning rates\n",
    "learning_rates = []\n",
    "\n",
    "# Training loop\n",
    "for epoch in range(EPOCHS):\n",
    "    \n",
    "    # Mix training data indices and zero loss of now starting epoch\n",
    "    np.random.shuffle(indices)\n",
    "    training_loss = 0\n",
    "    model.train()\n",
    "        \n",
    "    # Training batch loop\n",
    "    for ind in range(0, num_indices-BATCH_SIZE, BATCH_SIZE):\n",
    "\n",
    "        # Get data from dataframe\n",
    "        batch_indices = indices[ind:ind+BATCH_SIZE]\n",
    "        data = nn_data.iloc[batch_indices]\n",
    "        \n",
    "        # TODO: keep nans up to this point and sample fill values for nans here. Since the data holds its own\n",
    "        # distribution, sampling from it uniformly will yield samples from the desired distribution.\n",
    "        \n",
    "        # Move data to torch tenors\n",
    "        target_labels = torch.tensor(data.survived.values, device=device, dtype=torch_precision).reshape(BATCH_SIZE,1)\n",
    "        nn_input_data = torch.tensor(data.drop(['survived'],axis=1).values, device=device, dtype=torch_precision).reshape(BATCH_SIZE,input_size)\n",
    "\n",
    "        # Do prediction with neural network forward pass\n",
    "        pred = model(nn_input_data)\n",
    "        \n",
    "        # Evaluate performance\n",
    "        loss = criterion(pred, target_labels)\n",
    "        training_loss += loss.item()\n",
    "\n",
    "        # Train the neural network\n",
    "        optimizer.zero_grad()\n",
    "        loss.backward()\n",
    "        optimizer.step()\n",
    "        \n",
    "    # Store the loss of epoch\n",
    "    training_losses.append(training_loss)\n",
    "    \n",
    "    # If training loss has not decreased in 'patience' epochs, learning rate is decreased\n",
    "    scheduler.step(training_loss) \n",
    "    \n",
    "    # Save the parameters with the lowest loss\n",
    "    if training_loss < lowest_loss:\n",
    "        lowest_loss = training_loss\n",
    "        torch.save(model.state_dict(), 'best_parameters.pt')\n",
    "\n",
    "    # Reset learning rate LEARNING_RATE_RESETS times\n",
    "    if epoch % int(EPOCHS/(LEARNING_RATE_RESETS+1)) == 0:\n",
    "        set_lr(optimizer, learning_rate)\n",
    "        \n",
    "        # Load the parameters with lowest loss\n",
    "        model.load_state_dict(torch.load('best_parameters.pt'))\n",
    "\n",
    "    # Collect learning rate\n",
    "    learning_rates.append(get_lr(optimizer))\n",
    "        \n",
    "# Plot losses\n",
    "fig, ax1 = plt.subplots(figsize=(16,8))\n",
    "ax1.set_xlabel('Epoch')\n",
    "ax1.set_ylabel('Loss')\n",
    "ax1.plot(training_losses)\n",
    "\n",
    "# Add learning rate on with second vertical axis\n",
    "ax2 = ax1.twinx() \n",
    "ax2.set_ylabel('Learning rate') \n",
    "ax2.plot(learning_rates, 'k')\n",
    "fig.tight_layout() \n",
    "plt.title(f'Losses (min: {lowest_loss:.2f}) and learning rates')\n",
    "plt.grid()\n",
    "plt.show()"
   ]
  },
  {
   "cell_type": "code",
   "execution_count": 28,
   "id": "06f0d7c5",
   "metadata": {
    "execution": {
     "iopub.execute_input": "2023-02-27T10:06:05.290559Z",
     "iopub.status.busy": "2023-02-27T10:06:05.290268Z",
     "iopub.status.idle": "2023-02-27T10:06:05.354610Z",
     "shell.execute_reply": "2023-02-27T10:06:05.352910Z"
    },
    "papermill": {
     "duration": 0.083861,
     "end_time": "2023-02-27T10:06:05.357564",
     "exception": false,
     "start_time": "2023-02-27T10:06:05.273703",
     "status": "completed"
    },
    "tags": []
   },
   "outputs": [
    {
     "name": "stdout",
     "output_type": "stream",
     "text": [
      "0 missing ticket number values, will be filled with mean\n",
      "4 missing ticket number values, will be filled with mean\n"
     ]
    },
    {
     "name": "stderr",
     "output_type": "stream",
     "text": [
      "/opt/conda/lib/python3.7/site-packages/ipykernel_launcher.py:35: RuntimeWarning: divide by zero encountered in log\n",
      "/opt/conda/lib/python3.7/site-packages/ipykernel_launcher.py:37: RuntimeWarning: invalid value encountered in log\n"
     ]
    },
    {
     "data": {
      "text/html": [
       "<div>\n",
       "<style scoped>\n",
       "    .dataframe tbody tr th:only-of-type {\n",
       "        vertical-align: middle;\n",
       "    }\n",
       "\n",
       "    .dataframe tbody tr th {\n",
       "        vertical-align: top;\n",
       "    }\n",
       "\n",
       "    .dataframe thead th {\n",
       "        text-align: right;\n",
       "    }\n",
       "</style>\n",
       "<table border=\"1\" class=\"dataframe\">\n",
       "  <thead>\n",
       "    <tr style=\"text-align: right;\">\n",
       "      <th></th>\n",
       "      <th>in_class_1</th>\n",
       "      <th>in_class_2</th>\n",
       "      <th>in_class_3</th>\n",
       "      <th>sex</th>\n",
       "      <th>sib_sp</th>\n",
       "      <th>parch</th>\n",
       "      <th>fare</th>\n",
       "      <th>embarked_from_S</th>\n",
       "      <th>embarked_from_C</th>\n",
       "      <th>embarked_from_Q</th>\n",
       "      <th>...</th>\n",
       "      <th>cabin_on_deck_A</th>\n",
       "      <th>cabin_on_deck_B</th>\n",
       "      <th>cabin_on_deck_C</th>\n",
       "      <th>cabin_on_deck_D</th>\n",
       "      <th>cabin_on_deck_E</th>\n",
       "      <th>cabin_on_deck_F</th>\n",
       "      <th>cabin_on_deck_G</th>\n",
       "      <th>cabin_on_deck_T</th>\n",
       "      <th>name_length</th>\n",
       "      <th>family_size</th>\n",
       "    </tr>\n",
       "  </thead>\n",
       "  <tbody>\n",
       "    <tr>\n",
       "      <th>0</th>\n",
       "      <td>0</td>\n",
       "      <td>0</td>\n",
       "      <td>1</td>\n",
       "      <td>1</td>\n",
       "      <td>0.000</td>\n",
       "      <td>0.000000</td>\n",
       "      <td>-0.757900</td>\n",
       "      <td>0</td>\n",
       "      <td>0</td>\n",
       "      <td>1</td>\n",
       "      <td>...</td>\n",
       "      <td>0.0</td>\n",
       "      <td>0.0</td>\n",
       "      <td>0.0</td>\n",
       "      <td>0.0</td>\n",
       "      <td>0.0</td>\n",
       "      <td>0.0</td>\n",
       "      <td>0.0</td>\n",
       "      <td>0.0</td>\n",
       "      <td>-0.828283</td>\n",
       "      <td>0.090909</td>\n",
       "    </tr>\n",
       "    <tr>\n",
       "      <th>1</th>\n",
       "      <td>0</td>\n",
       "      <td>0</td>\n",
       "      <td>1</td>\n",
       "      <td>0</td>\n",
       "      <td>0.125</td>\n",
       "      <td>0.000000</td>\n",
       "      <td>-0.869699</td>\n",
       "      <td>1</td>\n",
       "      <td>0</td>\n",
       "      <td>0</td>\n",
       "      <td>...</td>\n",
       "      <td>0.0</td>\n",
       "      <td>0.0</td>\n",
       "      <td>0.0</td>\n",
       "      <td>0.0</td>\n",
       "      <td>0.0</td>\n",
       "      <td>0.0</td>\n",
       "      <td>0.0</td>\n",
       "      <td>0.0</td>\n",
       "      <td>0.171717</td>\n",
       "      <td>0.181818</td>\n",
       "    </tr>\n",
       "    <tr>\n",
       "      <th>2</th>\n",
       "      <td>0</td>\n",
       "      <td>1</td>\n",
       "      <td>0</td>\n",
       "      <td>1</td>\n",
       "      <td>0.000</td>\n",
       "      <td>0.000000</td>\n",
       "      <td>-0.545168</td>\n",
       "      <td>0</td>\n",
       "      <td>0</td>\n",
       "      <td>1</td>\n",
       "      <td>...</td>\n",
       "      <td>0.0</td>\n",
       "      <td>0.0</td>\n",
       "      <td>0.0</td>\n",
       "      <td>0.0</td>\n",
       "      <td>0.0</td>\n",
       "      <td>0.0</td>\n",
       "      <td>0.0</td>\n",
       "      <td>0.0</td>\n",
       "      <td>0.171717</td>\n",
       "      <td>0.090909</td>\n",
       "    </tr>\n",
       "    <tr>\n",
       "      <th>3</th>\n",
       "      <td>0</td>\n",
       "      <td>0</td>\n",
       "      <td>1</td>\n",
       "      <td>1</td>\n",
       "      <td>0.000</td>\n",
       "      <td>0.000000</td>\n",
       "      <td>-0.656879</td>\n",
       "      <td>1</td>\n",
       "      <td>0</td>\n",
       "      <td>0</td>\n",
       "      <td>...</td>\n",
       "      <td>0.0</td>\n",
       "      <td>0.0</td>\n",
       "      <td>0.0</td>\n",
       "      <td>0.0</td>\n",
       "      <td>0.0</td>\n",
       "      <td>0.0</td>\n",
       "      <td>0.0</td>\n",
       "      <td>0.0</td>\n",
       "      <td>-0.828283</td>\n",
       "      <td>0.090909</td>\n",
       "    </tr>\n",
       "    <tr>\n",
       "      <th>4</th>\n",
       "      <td>0</td>\n",
       "      <td>0</td>\n",
       "      <td>1</td>\n",
       "      <td>0</td>\n",
       "      <td>0.125</td>\n",
       "      <td>0.166667</td>\n",
       "      <td>-0.307640</td>\n",
       "      <td>1</td>\n",
       "      <td>0</td>\n",
       "      <td>0</td>\n",
       "      <td>...</td>\n",
       "      <td>0.0</td>\n",
       "      <td>0.0</td>\n",
       "      <td>0.0</td>\n",
       "      <td>0.0</td>\n",
       "      <td>0.0</td>\n",
       "      <td>0.0</td>\n",
       "      <td>0.0</td>\n",
       "      <td>0.0</td>\n",
       "      <td>0.171717</td>\n",
       "      <td>0.272727</td>\n",
       "    </tr>\n",
       "  </tbody>\n",
       "</table>\n",
       "<p>5 rows × 23 columns</p>\n",
       "</div>"
      ],
      "text/plain": [
       "   in_class_1  in_class_2  in_class_3  sex  sib_sp     parch      fare  \\\n",
       "0           0           0           1    1   0.000  0.000000 -0.757900   \n",
       "1           0           0           1    0   0.125  0.000000 -0.869699   \n",
       "2           0           1           0    1   0.000  0.000000 -0.545168   \n",
       "3           0           0           1    1   0.000  0.000000 -0.656879   \n",
       "4           0           0           1    0   0.125  0.166667 -0.307640   \n",
       "\n",
       "   embarked_from_S  embarked_from_C  embarked_from_Q  ...  cabin_on_deck_A  \\\n",
       "0                0                0                1  ...              0.0   \n",
       "1                1                0                0  ...              0.0   \n",
       "2                0                0                1  ...              0.0   \n",
       "3                1                0                0  ...              0.0   \n",
       "4                1                0                0  ...              0.0   \n",
       "\n",
       "   cabin_on_deck_B  cabin_on_deck_C  cabin_on_deck_D  cabin_on_deck_E  \\\n",
       "0              0.0              0.0              0.0              0.0   \n",
       "1              0.0              0.0              0.0              0.0   \n",
       "2              0.0              0.0              0.0              0.0   \n",
       "3              0.0              0.0              0.0              0.0   \n",
       "4              0.0              0.0              0.0              0.0   \n",
       "\n",
       "   cabin_on_deck_F  cabin_on_deck_G  cabin_on_deck_T  name_length  family_size  \n",
       "0              0.0              0.0              0.0    -0.828283     0.090909  \n",
       "1              0.0              0.0              0.0     0.171717     0.181818  \n",
       "2              0.0              0.0              0.0     0.171717     0.090909  \n",
       "3              0.0              0.0              0.0    -0.828283     0.090909  \n",
       "4              0.0              0.0              0.0     0.171717     0.272727  \n",
       "\n",
       "[5 rows x 23 columns]"
      ]
     },
     "execution_count": 28,
     "metadata": {},
     "output_type": "execute_result"
    }
   ],
   "source": [
    "# Read test data\n",
    "test_data = pd.read_csv(\"/kaggle/input/titanic/test.csv\")\n",
    "\n",
    "# Save passenger ids for submission\n",
    "passenger_ids = test_data.PassengerId \n",
    "\n",
    "# Transform to neural net input scale, train_data is used for scaling\n",
    "test_data = transform_df(test_data, train_data, training=False)\n",
    "\n",
    "test_data.head()"
   ]
  },
  {
   "cell_type": "code",
   "execution_count": 29,
   "id": "d08029ac",
   "metadata": {
    "execution": {
     "iopub.execute_input": "2023-02-27T10:06:05.394174Z",
     "iopub.status.busy": "2023-02-27T10:06:05.393784Z",
     "iopub.status.idle": "2023-02-27T10:06:05.419711Z",
     "shell.execute_reply": "2023-02-27T10:06:05.418566Z"
    },
    "papermill": {
     "duration": 0.04677,
     "end_time": "2023-02-27T10:06:05.422195",
     "exception": false,
     "start_time": "2023-02-27T10:06:05.375425",
     "status": "completed"
    },
    "tags": []
   },
   "outputs": [
    {
     "data": {
      "text/html": [
       "<div>\n",
       "<style scoped>\n",
       "    .dataframe tbody tr th:only-of-type {\n",
       "        vertical-align: middle;\n",
       "    }\n",
       "\n",
       "    .dataframe tbody tr th {\n",
       "        vertical-align: top;\n",
       "    }\n",
       "\n",
       "    .dataframe thead th {\n",
       "        text-align: right;\n",
       "    }\n",
       "</style>\n",
       "<table border=\"1\" class=\"dataframe\">\n",
       "  <thead>\n",
       "    <tr style=\"text-align: right;\">\n",
       "      <th></th>\n",
       "      <th>PassengerId</th>\n",
       "      <th>Survived</th>\n",
       "    </tr>\n",
       "  </thead>\n",
       "  <tbody>\n",
       "    <tr>\n",
       "      <th>0</th>\n",
       "      <td>892</td>\n",
       "      <td>0</td>\n",
       "    </tr>\n",
       "    <tr>\n",
       "      <th>1</th>\n",
       "      <td>893</td>\n",
       "      <td>0</td>\n",
       "    </tr>\n",
       "    <tr>\n",
       "      <th>2</th>\n",
       "      <td>894</td>\n",
       "      <td>0</td>\n",
       "    </tr>\n",
       "    <tr>\n",
       "      <th>3</th>\n",
       "      <td>895</td>\n",
       "      <td>0</td>\n",
       "    </tr>\n",
       "    <tr>\n",
       "      <th>4</th>\n",
       "      <td>896</td>\n",
       "      <td>0</td>\n",
       "    </tr>\n",
       "  </tbody>\n",
       "</table>\n",
       "</div>"
      ],
      "text/plain": [
       "   PassengerId  Survived\n",
       "0          892         0\n",
       "1          893         0\n",
       "2          894         0\n",
       "3          895         0\n",
       "4          896         0"
      ]
     },
     "execution_count": 29,
     "metadata": {},
     "output_type": "execute_result"
    }
   ],
   "source": [
    "# Test data as a tensor\n",
    "nn_input_test_data = torch.tensor(test_data.values, device=device, dtype=torch_precision).reshape(-1,input_size)\n",
    "\n",
    "# Load the parameters with lowest loss\n",
    "model.load_state_dict(torch.load('best_parameters.pt'))\n",
    "\n",
    "# Do prediction on test data. 'eval' omits dropouts and no grad skips gradient calculation used for training the net\n",
    "model.eval()\n",
    "with torch.no_grad():\n",
    "    test_data_pred = model(nn_input_test_data).squeeze()\n",
    "    test_data_pred_int = test_data_pred.round().to(torch.int64)\n",
    "\n",
    "# Save submission to csv\n",
    "submission = pd.DataFrame()\n",
    "submission['PassengerId'] = passenger_ids\n",
    "submission['Survived'] = test_data_pred_int.cpu().numpy()\n",
    "submission.to_csv('dense_net_with_feature_engineering_submission6.csv', index=False)\n",
    "\n",
    "# Look at head of submission\n",
    "submission.head()"
   ]
  }
 ],
 "metadata": {
  "kernelspec": {
   "display_name": "Python 3",
   "language": "python",
   "name": "python3"
  },
  "language_info": {
   "codemirror_mode": {
    "name": "ipython",
    "version": 3
   },
   "file_extension": ".py",
   "mimetype": "text/x-python",
   "name": "python",
   "nbconvert_exporter": "python",
   "pygments_lexer": "ipython3",
   "version": "3.7.12"
  },
  "papermill": {
   "default_parameters": {},
   "duration": 328.609846,
   "end_time": "2023-02-27T10:06:06.661693",
   "environment_variables": {},
   "exception": null,
   "input_path": "__notebook__.ipynb",
   "output_path": "__notebook__.ipynb",
   "parameters": {},
   "start_time": "2023-02-27T10:00:38.051847",
   "version": "2.3.4"
  }
 },
 "nbformat": 4,
 "nbformat_minor": 5
}
