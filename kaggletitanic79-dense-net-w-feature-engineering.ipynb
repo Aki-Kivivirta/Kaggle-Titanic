{
 "cells": [
  {
   "cell_type": "code",
   "execution_count": 1,
   "id": "5e3f226a",
   "metadata": {
    "_cell_guid": "b1076dfc-b9ad-4769-8c92-a6c4dae69d19",
    "_uuid": "8f2839f25d086af736a60e9eeb907d3b93b6e0e5",
    "execution": {
     "iopub.execute_input": "2023-02-14T10:25:33.017940Z",
     "iopub.status.busy": "2023-02-14T10:25:33.017384Z",
     "iopub.status.idle": "2023-02-14T10:25:35.105649Z",
     "shell.execute_reply": "2023-02-14T10:25:35.104607Z"
    },
    "papermill": {
     "duration": 2.104133,
     "end_time": "2023-02-14T10:25:35.108803",
     "exception": false,
     "start_time": "2023-02-14T10:25:33.004670",
     "status": "completed"
    },
    "tags": []
   },
   "outputs": [
    {
     "name": "stdout",
     "output_type": "stream",
     "text": [
      "/kaggle/input/titanic/train.csv\n",
      "/kaggle/input/titanic/test.csv\n",
      "/kaggle/input/titanic/gender_submission.csv\n"
     ]
    }
   ],
   "source": [
    "# This Python 3 environment comes with many helpful analytics libraries installed\n",
    "# It is defined by the kaggle/python Docker image: https://github.com/kaggle/docker-python\n",
    "# For example, here's several helpful packages to load\n",
    "\n",
    "import numpy as np # linear algebra\n",
    "import pandas as pd # data processing, CSV file I/O (e.g. pd.read_csv)\n",
    "from matplotlib import pyplot as plt\n",
    "import torch\n",
    "import torch.nn as nn\n",
    "\n",
    "# Input data files are available in the read-only \"../input/\" directory\n",
    "# For example, running this (by clicking run or pressing Shift+Enter) will list all files under the input directory\n",
    "\n",
    "import os\n",
    "for dirname, _, filenames in os.walk('/kaggle/input'):\n",
    "    for filename in filenames:\n",
    "        print(os.path.join(dirname, filename))\n",
    "\n",
    "# You can write up to 20GB to the current directory (/kaggle/working/) that gets preserved as output when you create a version using \"Save & Run All\" \n",
    "# You can also write temporary files to /kaggle/temp/, but they won't be saved outside of the current session"
   ]
  },
  {
   "cell_type": "markdown",
   "id": "f43c13ea",
   "metadata": {
    "papermill": {
     "duration": 0.008795,
     "end_time": "2023-02-14T10:25:35.127403",
     "exception": false,
     "start_time": "2023-02-14T10:25:35.118608",
     "status": "completed"
    },
    "tags": []
   },
   "source": [
    "# Data exploration"
   ]
  },
  {
   "cell_type": "code",
   "execution_count": 2,
   "id": "65282589",
   "metadata": {
    "execution": {
     "iopub.execute_input": "2023-02-14T10:25:35.149745Z",
     "iopub.status.busy": "2023-02-14T10:25:35.148866Z",
     "iopub.status.idle": "2023-02-14T10:25:35.195174Z",
     "shell.execute_reply": "2023-02-14T10:25:35.194152Z"
    },
    "papermill": {
     "duration": 0.059771,
     "end_time": "2023-02-14T10:25:35.197358",
     "exception": false,
     "start_time": "2023-02-14T10:25:35.137587",
     "status": "completed"
    },
    "tags": []
   },
   "outputs": [
    {
     "data": {
      "text/html": [
       "<div>\n",
       "<style scoped>\n",
       "    .dataframe tbody tr th:only-of-type {\n",
       "        vertical-align: middle;\n",
       "    }\n",
       "\n",
       "    .dataframe tbody tr th {\n",
       "        vertical-align: top;\n",
       "    }\n",
       "\n",
       "    .dataframe thead th {\n",
       "        text-align: right;\n",
       "    }\n",
       "</style>\n",
       "<table border=\"1\" class=\"dataframe\">\n",
       "  <thead>\n",
       "    <tr style=\"text-align: right;\">\n",
       "      <th></th>\n",
       "      <th>PassengerId</th>\n",
       "      <th>Survived</th>\n",
       "      <th>Pclass</th>\n",
       "      <th>Name</th>\n",
       "      <th>Sex</th>\n",
       "      <th>Age</th>\n",
       "      <th>SibSp</th>\n",
       "      <th>Parch</th>\n",
       "      <th>Ticket</th>\n",
       "      <th>Fare</th>\n",
       "      <th>Cabin</th>\n",
       "      <th>Embarked</th>\n",
       "    </tr>\n",
       "  </thead>\n",
       "  <tbody>\n",
       "    <tr>\n",
       "      <th>0</th>\n",
       "      <td>1</td>\n",
       "      <td>0</td>\n",
       "      <td>3</td>\n",
       "      <td>Braund, Mr. Owen Harris</td>\n",
       "      <td>male</td>\n",
       "      <td>22.0</td>\n",
       "      <td>1</td>\n",
       "      <td>0</td>\n",
       "      <td>A/5 21171</td>\n",
       "      <td>7.2500</td>\n",
       "      <td>NaN</td>\n",
       "      <td>S</td>\n",
       "    </tr>\n",
       "    <tr>\n",
       "      <th>1</th>\n",
       "      <td>2</td>\n",
       "      <td>1</td>\n",
       "      <td>1</td>\n",
       "      <td>Cumings, Mrs. John Bradley (Florence Briggs Th...</td>\n",
       "      <td>female</td>\n",
       "      <td>38.0</td>\n",
       "      <td>1</td>\n",
       "      <td>0</td>\n",
       "      <td>PC 17599</td>\n",
       "      <td>71.2833</td>\n",
       "      <td>C85</td>\n",
       "      <td>C</td>\n",
       "    </tr>\n",
       "    <tr>\n",
       "      <th>2</th>\n",
       "      <td>3</td>\n",
       "      <td>1</td>\n",
       "      <td>3</td>\n",
       "      <td>Heikkinen, Miss. Laina</td>\n",
       "      <td>female</td>\n",
       "      <td>26.0</td>\n",
       "      <td>0</td>\n",
       "      <td>0</td>\n",
       "      <td>STON/O2. 3101282</td>\n",
       "      <td>7.9250</td>\n",
       "      <td>NaN</td>\n",
       "      <td>S</td>\n",
       "    </tr>\n",
       "    <tr>\n",
       "      <th>3</th>\n",
       "      <td>4</td>\n",
       "      <td>1</td>\n",
       "      <td>1</td>\n",
       "      <td>Futrelle, Mrs. Jacques Heath (Lily May Peel)</td>\n",
       "      <td>female</td>\n",
       "      <td>35.0</td>\n",
       "      <td>1</td>\n",
       "      <td>0</td>\n",
       "      <td>113803</td>\n",
       "      <td>53.1000</td>\n",
       "      <td>C123</td>\n",
       "      <td>S</td>\n",
       "    </tr>\n",
       "    <tr>\n",
       "      <th>4</th>\n",
       "      <td>5</td>\n",
       "      <td>0</td>\n",
       "      <td>3</td>\n",
       "      <td>Allen, Mr. William Henry</td>\n",
       "      <td>male</td>\n",
       "      <td>35.0</td>\n",
       "      <td>0</td>\n",
       "      <td>0</td>\n",
       "      <td>373450</td>\n",
       "      <td>8.0500</td>\n",
       "      <td>NaN</td>\n",
       "      <td>S</td>\n",
       "    </tr>\n",
       "  </tbody>\n",
       "</table>\n",
       "</div>"
      ],
      "text/plain": [
       "   PassengerId  Survived  Pclass  \\\n",
       "0            1         0       3   \n",
       "1            2         1       1   \n",
       "2            3         1       3   \n",
       "3            4         1       1   \n",
       "4            5         0       3   \n",
       "\n",
       "                                                Name     Sex   Age  SibSp  \\\n",
       "0                            Braund, Mr. Owen Harris    male  22.0      1   \n",
       "1  Cumings, Mrs. John Bradley (Florence Briggs Th...  female  38.0      1   \n",
       "2                             Heikkinen, Miss. Laina  female  26.0      0   \n",
       "3       Futrelle, Mrs. Jacques Heath (Lily May Peel)  female  35.0      1   \n",
       "4                           Allen, Mr. William Henry    male  35.0      0   \n",
       "\n",
       "   Parch            Ticket     Fare Cabin Embarked  \n",
       "0      0         A/5 21171   7.2500   NaN        S  \n",
       "1      0          PC 17599  71.2833   C85        C  \n",
       "2      0  STON/O2. 3101282   7.9250   NaN        S  \n",
       "3      0            113803  53.1000  C123        S  \n",
       "4      0            373450   8.0500   NaN        S  "
      ]
     },
     "execution_count": 2,
     "metadata": {},
     "output_type": "execute_result"
    }
   ],
   "source": [
    "train_data = pd.read_csv(\"/kaggle/input/titanic/train.csv\")\n",
    "train_data.head() # 'PassengerId' is row number+1"
   ]
  },
  {
   "cell_type": "code",
   "execution_count": 3,
   "id": "a458099c",
   "metadata": {
    "execution": {
     "iopub.execute_input": "2023-02-14T10:25:35.219949Z",
     "iopub.status.busy": "2023-02-14T10:25:35.218494Z",
     "iopub.status.idle": "2023-02-14T10:25:35.230130Z",
     "shell.execute_reply": "2023-02-14T10:25:35.228990Z"
    },
    "papermill": {
     "duration": 0.025335,
     "end_time": "2023-02-14T10:25:35.232679",
     "exception": false,
     "start_time": "2023-02-14T10:25:35.207344",
     "status": "completed"
    },
    "tags": []
   },
   "outputs": [
    {
     "data": {
      "text/plain": [
       "PassengerId      0\n",
       "Survived         0\n",
       "Pclass           0\n",
       "Name             0\n",
       "Sex              0\n",
       "Age            177\n",
       "SibSp            0\n",
       "Parch            0\n",
       "Ticket           0\n",
       "Fare             0\n",
       "Cabin          687\n",
       "Embarked         2\n",
       "dtype: int64"
      ]
     },
     "execution_count": 3,
     "metadata": {},
     "output_type": "execute_result"
    }
   ],
   "source": [
    "# See missing values \n",
    "train_data.isna().sum()"
   ]
  },
  {
   "cell_type": "code",
   "execution_count": 4,
   "id": "2b9d6480",
   "metadata": {
    "execution": {
     "iopub.execute_input": "2023-02-14T10:25:35.253771Z",
     "iopub.status.busy": "2023-02-14T10:25:35.253248Z",
     "iopub.status.idle": "2023-02-14T10:25:35.268766Z",
     "shell.execute_reply": "2023-02-14T10:25:35.266653Z"
    },
    "papermill": {
     "duration": 0.029009,
     "end_time": "2023-02-14T10:25:35.271300",
     "exception": false,
     "start_time": "2023-02-14T10:25:35.242291",
     "status": "completed"
    },
    "tags": []
   },
   "outputs": [
    {
     "name": "stdout",
     "output_type": "stream",
     "text": [
      "All 'Embarked' labels:  ['S' 'C' 'Q' nan]\n",
      "Number of 'S':  644\n",
      "Number of 'C':  168\n",
      "Number of 'Q':  77\n"
     ]
    }
   ],
   "source": [
    "# Look at all Embarked labels\n",
    "print(\"All 'Embarked' labels: \",train_data.Embarked.unique() )\n",
    "print(\"Number of 'S': \" ,np.sum(train_data.Embarked=='S') )\n",
    "print(\"Number of 'C': \" ,np.sum(train_data.Embarked=='C') )\n",
    "print(\"Number of 'Q': \" ,np.sum(train_data.Embarked=='Q') ) "
   ]
  },
  {
   "cell_type": "markdown",
   "id": "664362b4",
   "metadata": {
    "papermill": {
     "duration": 0.009237,
     "end_time": "2023-02-14T10:25:35.290314",
     "exception": false,
     "start_time": "2023-02-14T10:25:35.281077",
     "status": "completed"
    },
    "tags": []
   },
   "source": [
    "## Cabin data"
   ]
  },
  {
   "cell_type": "code",
   "execution_count": 5,
   "id": "31b29ae2",
   "metadata": {
    "execution": {
     "iopub.execute_input": "2023-02-14T10:25:35.312229Z",
     "iopub.status.busy": "2023-02-14T10:25:35.311618Z",
     "iopub.status.idle": "2023-02-14T10:25:35.320492Z",
     "shell.execute_reply": "2023-02-14T10:25:35.319137Z"
    },
    "papermill": {
     "duration": 0.023497,
     "end_time": "2023-02-14T10:25:35.323492",
     "exception": false,
     "start_time": "2023-02-14T10:25:35.299995",
     "status": "completed"
    },
    "tags": []
   },
   "outputs": [
    {
     "name": "stdout",
     "output_type": "stream",
     "text": [
      "All 'Cabin' labels:  [nan 'C85' 'C123' 'E46' 'G6' 'C103' 'D56' 'A6' 'C23 C25 C27' 'B78' 'D33'\n",
      " 'B30' 'C52' 'B28' 'C83' 'F33' 'F G73' 'E31' 'A5' 'D10 D12' 'D26' 'C110'\n",
      " 'B58 B60' 'E101' 'F E69' 'D47' 'B86' 'F2' 'C2' 'E33' 'B19' 'A7' 'C49'\n",
      " 'F4' 'A32' 'B4' 'B80' 'A31' 'D36' 'D15' 'C93' 'C78' 'D35' 'C87' 'B77'\n",
      " 'E67' 'B94' 'C125' 'C99' 'C118' 'D7' 'A19' 'B49' 'D' 'C22 C26' 'C106'\n",
      " 'C65' 'E36' 'C54' 'B57 B59 B63 B66' 'C7' 'E34' 'C32' 'B18' 'C124' 'C91'\n",
      " 'E40' 'T' 'C128' 'D37' 'B35' 'E50' 'C82' 'B96 B98' 'E10' 'E44' 'A34'\n",
      " 'C104' 'C111' 'C92' 'E38' 'D21' 'E12' 'E63' 'A14' 'B37' 'C30' 'D20' 'B79'\n",
      " 'E25' 'D46' 'B73' 'C95' 'B38' 'B39' 'B22' 'C86' 'C70' 'A16' 'C101' 'C68'\n",
      " 'A10' 'E68' 'B41' 'A20' 'D19' 'D50' 'D9' 'A23' 'B50' 'A26' 'D48' 'E58'\n",
      " 'C126' 'B71' 'B51 B53 B55' 'D49' 'B5' 'B20' 'F G63' 'C62 C64' 'E24' 'C90'\n",
      " 'C45' 'E8' 'B101' 'D45' 'C46' 'D30' 'E121' 'D11' 'E77' 'F38' 'B3' 'D6'\n",
      " 'B82 B84' 'D17' 'A36' 'B102' 'B69' 'E49' 'C47' 'D28' 'E17' 'A24' 'C50'\n",
      " 'B42' 'C148']\n",
      "\n",
      "'Cabin' labels starting with 'C':  ['C85', 'C123', 'C103', 'C23 C25 C27', 'C52', 'C83', 'C110', 'C2', 'C49', 'C93', 'C78', 'C87', 'C125', 'C99', 'C118', 'C22 C26', 'C106', 'C65', 'C54', 'C7', 'C32', 'C124', 'C91', 'C128', 'C82', 'C104', 'C111', 'C92', 'C30', 'C95', 'C86', 'C70', 'C101', 'C68', 'C126', 'C62 C64', 'C90', 'C45', 'C46', 'C47', 'C50', 'C148']\n"
     ]
    }
   ],
   "source": [
    "# Get all unique cabins\n",
    "unique_cabins = train_data.Cabin.unique()\n",
    "print(\"All 'Cabin' labels: \",unique_cabins)\n",
    "\n",
    "# Look at cabins with a certain first letter\n",
    "c_cabins = [c for c in unique_cabins[1:] if c[0]=='C'] # [1:] skips nan\n",
    "print(\"\\n'Cabin' labels starting with 'C': \",c_cabins)"
   ]
  },
  {
   "cell_type": "code",
   "execution_count": 6,
   "id": "3d546748",
   "metadata": {
    "execution": {
     "iopub.execute_input": "2023-02-14T10:25:35.347191Z",
     "iopub.status.busy": "2023-02-14T10:25:35.346699Z",
     "iopub.status.idle": "2023-02-14T10:25:36.091984Z",
     "shell.execute_reply": "2023-02-14T10:25:36.090496Z"
    },
    "papermill": {
     "duration": 0.759567,
     "end_time": "2023-02-14T10:25:36.094989",
     "exception": false,
     "start_time": "2023-02-14T10:25:35.335422",
     "status": "completed"
    },
    "tags": []
   },
   "outputs": [
    {
     "data": {
      "image/png": "[encoded data removed]",
      "text/plain": [
       "<Figure size 720x360 with 1 Axes>"
      ]
     },
     "metadata": {
      "needs_background": "light"
     },
     "output_type": "display_data"
    },
    {
     "data": {
      "image/png": "[encoded data removed]",
      "text/plain": [
       "<Figure size 720x360 with 1 Axes>"
      ]
     },
     "metadata": {
      "needs_background": "light"
     },
     "output_type": "display_data"
    }
   ],
   "source": [
    "def get_cabin_numbers(df, nan_val=0):\n",
    "    mean_cabin_numbers = []\n",
    "\n",
    "    for cabin_codes in df.Cabin:\n",
    "\n",
    "        # HOX! Some passengers had multiple cabins\n",
    "\n",
    "        # If cabin code is nan set the number to 'nan_val' (=0)\n",
    "        if cabin_codes is np.nan:\n",
    "            cabin_number = nan_val\n",
    "        else:\n",
    "            \n",
    "            # Get cabin numbers as a list\n",
    "            cabin_numbers = []\n",
    "            for cabin_code in cabin_codes.split(\" \"):\n",
    "                cabin_number = ''.join([ c for c in cabin_code if c.isdigit() ])\n",
    "                if cabin_number != '':\n",
    "                    cabin_numbers.append(cabin_number)\n",
    "\n",
    "            # Set the number to 0 if there wasn't any number, othervise calculate mean of cabin numbers in cabin_codes\n",
    "            cabin_number = nan_val if (cabin_numbers == [''] or cabin_numbers == []) else np.array( cabin_numbers, dtype=np.int32).mean()\n",
    "\n",
    "        # Append the cabin number\n",
    "        mean_cabin_numbers.append( cabin_number )\n",
    "\n",
    "    return np.array(mean_cabin_numbers)\n",
    "\n",
    "# Get cabin numbers\n",
    "mean_cabin_numbers = get_cabin_numbers(train_data)\n",
    "\n",
    "# Plot\n",
    "plt.figure(figsize=(10,5))\n",
    "plt.hist( (mean_cabin_numbers), bins=100)\n",
    "plt.title(\"All cabin numbers\")\n",
    "plt.grid()\n",
    "plt.show() \n",
    "\n",
    "plt.figure(figsize=(10,5))\n",
    "plt.hist( mean_cabin_numbers[np.where((mean_cabin_numbers)>0)], bins=50)\n",
    "plt.title(\"Cabin numbers without 0s\")\n",
    "plt.grid()\n",
    "plt.show() "
   ]
  },
  {
   "cell_type": "code",
   "execution_count": 7,
   "id": "881fdc53",
   "metadata": {
    "execution": {
     "iopub.execute_input": "2023-02-14T10:25:36.119930Z",
     "iopub.status.busy": "2023-02-14T10:25:36.119398Z",
     "iopub.status.idle": "2023-02-14T10:25:36.728467Z",
     "shell.execute_reply": "2023-02-14T10:25:36.727107Z"
    },
    "papermill": {
     "duration": 0.624877,
     "end_time": "2023-02-14T10:25:36.731259",
     "exception": false,
     "start_time": "2023-02-14T10:25:36.106382",
     "status": "completed"
    },
    "tags": []
   },
   "outputs": [
    {
     "data": {
      "image/png": "[encoded data removed]",
      "text/plain": [
       "<Figure size 720x360 with 1 Axes>"
      ]
     },
     "metadata": {
      "needs_background": "light"
     },
     "output_type": "display_data"
    },
    {
     "data": {
      "image/png": "[encoded data removed]",
      "text/plain": [
       "<Figure size 720x360 with 1 Axes>"
      ]
     },
     "metadata": {
      "needs_background": "light"
     },
     "output_type": "display_data"
    }
   ],
   "source": [
    "# Thinking about using log for numbers which had a cabin numbers and -1 for those that didn't, since log can't yield -1\n",
    "plt.figure(figsize=(10,5))\n",
    "plt.hist( np.where( mean_cabin_numbers>0, np.log(mean_cabin_numbers+0.01), -1), bins=50 ) # For some reason there are still 0s after the where '>0' filter so adding a +0.01\n",
    "plt.title(\"Log cabin numbers without 0s\")\n",
    "plt.grid()\n",
    "plt.show() \n",
    "\n",
    "# Started experimenting with log scaling after watching Ken Jee's video on this challenge https://www.youtube.com/watch?v=I3FBJdiExcg\n",
    "plt.figure(figsize=(10,5))\n",
    "plt.hist( np.log(mean_cabin_numbers[np.where((mean_cabin_numbers)>0)]), bins=50)\n",
    "plt.title(\"Log cabin numbers without 0s\")\n",
    "plt.grid()\n",
    "plt.show() "
   ]
  },
  {
   "cell_type": "code",
   "execution_count": 8,
   "id": "a1e15169",
   "metadata": {
    "execution": {
     "iopub.execute_input": "2023-02-14T10:25:36.755261Z",
     "iopub.status.busy": "2023-02-14T10:25:36.754769Z",
     "iopub.status.idle": "2023-02-14T10:25:36.772494Z",
     "shell.execute_reply": "2023-02-14T10:25:36.771018Z"
    },
    "papermill": {
     "duration": 0.033022,
     "end_time": "2023-02-14T10:25:36.775348",
     "exception": false,
     "start_time": "2023-02-14T10:25:36.742326",
     "status": "completed"
    },
    "tags": []
   },
   "outputs": [
    {
     "name": "stdout",
     "output_type": "stream",
     "text": [
      "A6\n",
      "B78\n",
      "C85\n",
      "D56\n",
      "E46\n",
      "F33\n",
      "G6\n",
      "T\n",
      "['A', 'B', 'C', 'D', 'E', 'F', 'G', 'T']\n"
     ]
    }
   ],
   "source": [
    "alphabets = ['A','B','C','D','E','F','G','H','I','J','K','L','M','N','O','P','Q','R','S','T','U','V','W','Y','Z']\n",
    "all_decks = []\n",
    "\n",
    "for alpha in alphabets:\n",
    "    for cabin in train_data.Cabin.dropna():\n",
    "        if alpha in cabin:\n",
    "            all_decks.append(alpha)\n",
    "            print(cabin)\n",
    "            break\n",
    "            \n",
    "print(all_decks)"
   ]
  },
  {
   "cell_type": "code",
   "execution_count": 9,
   "id": "f60f1571",
   "metadata": {
    "execution": {
     "iopub.execute_input": "2023-02-14T10:25:36.800158Z",
     "iopub.status.busy": "2023-02-14T10:25:36.799286Z",
     "iopub.status.idle": "2023-02-14T10:25:36.810287Z",
     "shell.execute_reply": "2023-02-14T10:25:36.808980Z"
    },
    "papermill": {
     "duration": 0.026561,
     "end_time": "2023-02-14T10:25:36.813173",
     "exception": false,
     "start_time": "2023-02-14T10:25:36.786612",
     "status": "completed"
    },
    "tags": []
   },
   "outputs": [
    {
     "name": "stdout",
     "output_type": "stream",
     "text": [
      "[0. 1. 0. 1. 0. 0. 0. 0. 0. 0.]\n",
      "0     NaN\n",
      "1     C85\n",
      "2     NaN\n",
      "3    C123\n",
      "4     NaN\n",
      "5     NaN\n",
      "6     E46\n",
      "7     NaN\n",
      "8     NaN\n",
      "9     NaN\n",
      "Name: Cabin, dtype: object\n"
     ]
    }
   ],
   "source": [
    "# Used for data transforms\n",
    "def has_cabin_on_deck(df, deck_letter):\n",
    "    # Returns a np array which has 1s at indices where there deck_letter was found and 0 otherwise \n",
    "    ret = np.zeros(df.Cabin.size)\n",
    "    true_indices = [index for index, cabin in enumerate(df.Cabin) if deck_letter in str(cabin)] # str convert for nans, in is case sensitive ('a' of 'NaN' isn't the same as 'A') and there is no deck 'N' so this should be fine\n",
    "    ret[true_indices] = 1\n",
    "    return ret\n",
    "    \n",
    "print(has_cabin_on_deck(train_data, 'C')[:10])\n",
    "print(train_data.Cabin[:10])"
   ]
  },
  {
   "cell_type": "markdown",
   "id": "f80034ec",
   "metadata": {
    "papermill": {
     "duration": 0.010688,
     "end_time": "2023-02-14T10:25:36.835058",
     "exception": false,
     "start_time": "2023-02-14T10:25:36.824370",
     "status": "completed"
    },
    "tags": []
   },
   "source": [
    "## Ticket data"
   ]
  },
  {
   "cell_type": "code",
   "execution_count": 10,
   "id": "ca833934",
   "metadata": {
    "execution": {
     "iopub.execute_input": "2023-02-14T10:25:36.859463Z",
     "iopub.status.busy": "2023-02-14T10:25:36.858934Z",
     "iopub.status.idle": "2023-02-14T10:25:37.192992Z",
     "shell.execute_reply": "2023-02-14T10:25:37.191237Z"
    },
    "papermill": {
     "duration": 0.349864,
     "end_time": "2023-02-14T10:25:37.196085",
     "exception": false,
     "start_time": "2023-02-14T10:25:36.846221",
     "status": "completed"
    },
    "tags": []
   },
   "outputs": [
    {
     "name": "stdout",
     "output_type": "stream",
     "text": [
      "Number of unique tickets:  681\n",
      "4 missing ticket number values, will be filled with mean\n"
     ]
    },
    {
     "data": {
      "image/png": "[encoded data removed]",
      "text/plain": [
       "<Figure size 720x360 with 1 Axes>"
      ]
     },
     "metadata": {
      "needs_background": "light"
     },
     "output_type": "display_data"
    }
   ],
   "source": [
    "# Get all unique tickets\n",
    "unique_tickets = train_data.Ticket.unique()\n",
    "print(\"Number of unique tickets: \",len(unique_tickets))\n",
    "\n",
    "def get_ticket_numbers(df):\n",
    "    # Get ticket numbers\n",
    "    ticket_numbers = np.zeros(df.shape[0])\n",
    "\n",
    "    # Init dummy value \n",
    "    dummy_val = np.nan\n",
    "    \n",
    "    # Go through each ticket\n",
    "    for index, t in enumerate(df.Ticket):\n",
    "        ticket_number = ''\n",
    "        for splitted in t.split(\" \"):        \n",
    "            if splitted.isdigit():\n",
    "                ticket_number = splitted\n",
    "                break\n",
    "                \n",
    "        if ticket_number != '':\n",
    "            ticket_numbers[index] = ticket_number\n",
    "        else:\n",
    "            ticket_numbers[index] = dummy_val\n",
    "                \n",
    "    print( np.isnan(ticket_numbers).sum(), \"missing ticket number values, will be filled with mean\")\n",
    "                \n",
    "    # Fill nans with the mean\n",
    "    mean = np.mean( ticket_numbers[~np.isnan(ticket_numbers)] )\n",
    "    ticket_numbers[np.isnan(ticket_numbers)] = mean\n",
    "                \n",
    "    return ticket_numbers\n",
    "\n",
    "ticket_numbers = get_ticket_numbers(train_data)\n",
    "    \n",
    "log_ticket_numbers = np.log(ticket_numbers)\n",
    "plt.figure(figsize=(10,5))\n",
    "plt.hist( log_ticket_numbers-np.mean(log_ticket_numbers), bins=100)\n",
    "plt.title(\"Ticket numbers\")\n",
    "plt.grid()\n",
    "plt.show() \n",
    "\n",
    "# Looks like median would be a smarter fill value, due to the high frequency at some higher values"
   ]
  },
  {
   "cell_type": "code",
   "execution_count": 11,
   "id": "07d97299",
   "metadata": {
    "execution": {
     "iopub.execute_input": "2023-02-14T10:25:37.221669Z",
     "iopub.status.busy": "2023-02-14T10:25:37.221106Z",
     "iopub.status.idle": "2023-02-14T10:25:37.235165Z",
     "shell.execute_reply": "2023-02-14T10:25:37.233248Z"
    },
    "papermill": {
     "duration": 0.030599,
     "end_time": "2023-02-14T10:25:37.238421",
     "exception": false,
     "start_time": "2023-02-14T10:25:37.207822",
     "status": "completed"
    },
    "tags": []
   },
   "outputs": [
    {
     "name": "stdout",
     "output_type": "stream",
     "text": [
      "Total number of ticket codes:  243\n",
      "PC            60\n",
      "C.A.          27\n",
      "2.            12\n",
      "STON/O        12\n",
      "A/5           10\n",
      "W./C.          9\n",
      "CA.            8\n",
      "SOTON/O.Q.     8\n",
      "A/5.           7\n",
      "SOTON/OQ       7\n",
      "STON/O2.       6\n",
      "CA             6\n",
      "F.C.C.         5\n",
      "C              5\n",
      "SC/PARIS       5\n",
      "S.O.C.         5\n",
      "SC/Paris       4\n",
      "LINE           4\n",
      "A/4            3\n",
      "A/4.           3\n",
      "S.O./P.P.      3\n",
      "SC/AH          3\n",
      "PP             3\n",
      "A.5.           2\n",
      "S.C./PARIS     2\n",
      "SOTON/O2       2\n",
      "P/PP           2\n",
      "A./5.          2\n",
      "WE/P           2\n",
      "Basle          1\n",
      "SO/C           1\n",
      "S.W./PP        1\n",
      "F.C.           1\n",
      "A/S            1\n",
      "SW/PP          1\n",
      "SC             1\n",
      "SCO/W          1\n",
      "W.E.P.         1\n",
      "W/C            1\n",
      "Fa             1\n",
      "S.O.P.         1\n",
      "S.C./A.4.      1\n",
      "A4.            1\n",
      "S.P.           1\n",
      "C.A./SOTON     1\n",
      "dtype: int64\n"
     ]
    }
   ],
   "source": [
    "# Look at what kind of non numeric data is in the tickets\n",
    "ticket_codes = []\n",
    "\n",
    "# Go through each ticket\n",
    "for t in train_data.Ticket:\n",
    "    for splitted in t.split(\" \"):\n",
    "        \n",
    "        # If any of the sections in the data is not a digit, save it\n",
    "        if not splitted.isdigit():\n",
    "            ticket_codes.append(splitted)\n",
    "            \n",
    "ticket_codes = pd.Series(ticket_codes)\n",
    "print(\"Total number of ticket codes: \",len(ticket_codes))\n",
    "print(ticket_codes.value_counts())\n",
    "\n",
    "# The usage of this data is left as an exercise for the reader ;D, \n",
    "# I wont be using this data now since there are so many missing values and unique values"
   ]
  },
  {
   "cell_type": "markdown",
   "id": "afb18d40",
   "metadata": {
    "papermill": {
     "duration": 0.01118,
     "end_time": "2023-02-14T10:25:37.261383",
     "exception": false,
     "start_time": "2023-02-14T10:25:37.250203",
     "status": "completed"
    },
    "tags": []
   },
   "source": [
    "## Sex data"
   ]
  },
  {
   "cell_type": "code",
   "execution_count": 12,
   "id": "a667b5a5",
   "metadata": {
    "execution": {
     "iopub.execute_input": "2023-02-14T10:25:37.286698Z",
     "iopub.status.busy": "2023-02-14T10:25:37.286143Z",
     "iopub.status.idle": "2023-02-14T10:25:37.407264Z",
     "shell.execute_reply": "2023-02-14T10:25:37.405502Z"
    },
    "papermill": {
     "duration": 0.138885,
     "end_time": "2023-02-14T10:25:37.411997",
     "exception": false,
     "start_time": "2023-02-14T10:25:37.273112",
     "status": "completed"
    },
    "tags": []
   },
   "outputs": [
    {
     "data": {
      "image/png": "[encoded data removed]",
      "text/plain": [
       "<Figure size 720x360 with 1 Axes>"
      ]
     },
     "metadata": {
      "needs_background": "light"
     },
     "output_type": "display_data"
    }
   ],
   "source": [
    "male_count   = np.sum(train_data.Sex=='male')\n",
    "female_count = np.sum(train_data.Sex=='female')\n",
    "\n",
    "plt.figure(figsize=(10,5))\n",
    "# plt.hist(train_data.Pclass)\n",
    "plt.bar(0, male_count)\n",
    "plt.bar(1, female_count)\n",
    "plt.xticks([0,1], ['male','female'])\n",
    "plt.show()"
   ]
  },
  {
   "cell_type": "markdown",
   "id": "cc6cdc42",
   "metadata": {
    "papermill": {
     "duration": 0.012067,
     "end_time": "2023-02-14T10:25:37.452631",
     "exception": false,
     "start_time": "2023-02-14T10:25:37.440564",
     "status": "completed"
    },
    "tags": []
   },
   "source": [
    "## Age data"
   ]
  },
  {
   "cell_type": "code",
   "execution_count": 13,
   "id": "4db9437b",
   "metadata": {
    "execution": {
     "iopub.execute_input": "2023-02-14T10:25:37.478406Z",
     "iopub.status.busy": "2023-02-14T10:25:37.477903Z",
     "iopub.status.idle": "2023-02-14T10:25:38.070972Z",
     "shell.execute_reply": "2023-02-14T10:25:38.069210Z"
    },
    "papermill": {
     "duration": 0.609369,
     "end_time": "2023-02-14T10:25:38.073797",
     "exception": false,
     "start_time": "2023-02-14T10:25:37.464428",
     "status": "completed"
    },
    "tags": []
   },
   "outputs": [
    {
     "name": "stdout",
     "output_type": "stream",
     "text": [
      "714  values in total\n"
     ]
    },
    {
     "data": {
      "image/png": "[encoded data removed]",
      "text/plain": [
       "<Figure size 720x360 with 1 Axes>"
      ]
     },
     "metadata": {
      "needs_background": "light"
     },
     "output_type": "display_data"
    }
   ],
   "source": [
    "print(train_data.Age.dropna().size,\" values in total\")\n",
    "\n",
    "plt.figure(figsize=(10,5))\n",
    "plt.hist(train_data.Age, bins=int(train_data.Age.max()))\n",
    "plt.title(\"Age\")\n",
    "plt.grid()\n",
    "plt.show() "
   ]
  },
  {
   "cell_type": "code",
   "execution_count": 14,
   "id": "42400b4b",
   "metadata": {
    "execution": {
     "iopub.execute_input": "2023-02-14T10:25:38.100989Z",
     "iopub.status.busy": "2023-02-14T10:25:38.099844Z",
     "iopub.status.idle": "2023-02-14T10:25:38.454103Z",
     "shell.execute_reply": "2023-02-14T10:25:38.452542Z"
    },
    "papermill": {
     "duration": 0.371064,
     "end_time": "2023-02-14T10:25:38.457213",
     "exception": false,
     "start_time": "2023-02-14T10:25:38.086149",
     "status": "completed"
    },
    "tags": []
   },
   "outputs": [
    {
     "data": {
      "image/png": "[encoded data removed]",
      "text/plain": [
       "<Figure size 720x360 with 1 Axes>"
      ]
     },
     "metadata": {
      "needs_background": "light"
     },
     "output_type": "display_data"
    }
   ],
   "source": [
    "log_age = np.log(train_data.Age)\n",
    "\n",
    "plt.figure(figsize=(10,5))\n",
    "plt.hist( log_age-log_age.median(), bins=int(train_data.Age.max()))\n",
    "plt.title(\"Log Age\")\n",
    "plt.grid()\n",
    "plt.show() "
   ]
  },
  {
   "cell_type": "markdown",
   "id": "cc51f011",
   "metadata": {
    "papermill": {
     "duration": 0.011969,
     "end_time": "2023-02-14T10:25:38.481622",
     "exception": false,
     "start_time": "2023-02-14T10:25:38.469653",
     "status": "completed"
    },
    "tags": []
   },
   "source": [
    "## Fare data"
   ]
  },
  {
   "cell_type": "code",
   "execution_count": 15,
   "id": "5916460a",
   "metadata": {
    "execution": {
     "iopub.execute_input": "2023-02-14T10:25:38.508933Z",
     "iopub.status.busy": "2023-02-14T10:25:38.508408Z",
     "iopub.status.idle": "2023-02-14T10:25:38.883843Z",
     "shell.execute_reply": "2023-02-14T10:25:38.882419Z"
    },
    "papermill": {
     "duration": 0.392793,
     "end_time": "2023-02-14T10:25:38.886943",
     "exception": false,
     "start_time": "2023-02-14T10:25:38.494150",
     "status": "completed"
    },
    "tags": []
   },
   "outputs": [
    {
     "data": {
      "image/png": "[encoded data removed]",
      "text/plain": [
       "<Figure size 720x360 with 1 Axes>"
      ]
     },
     "metadata": {
      "needs_background": "light"
     },
     "output_type": "display_data"
    }
   ],
   "source": [
    "plt.figure(figsize=(10,5))\n",
    "plt.hist(train_data.Fare, bins=100)\n",
    "plt.grid()\n",
    "plt.show()"
   ]
  },
  {
   "cell_type": "code",
   "execution_count": 16,
   "id": "910a194d",
   "metadata": {
    "execution": {
     "iopub.execute_input": "2023-02-14T10:25:38.914681Z",
     "iopub.status.busy": "2023-02-14T10:25:38.913730Z",
     "iopub.status.idle": "2023-02-14T10:25:39.296889Z",
     "shell.execute_reply": "2023-02-14T10:25:39.295471Z"
    },
    "papermill": {
     "duration": 0.400285,
     "end_time": "2023-02-14T10:25:39.299714",
     "exception": false,
     "start_time": "2023-02-14T10:25:38.899429",
     "status": "completed"
    },
    "tags": []
   },
   "outputs": [
    {
     "data": {
      "image/png": "[encoded data removed]",
      "text/plain": [
       "<Figure size 720x360 with 1 Axes>"
      ]
     },
     "metadata": {
      "needs_background": "light"
     },
     "output_type": "display_data"
    }
   ],
   "source": [
    "log_fare = np.log(train_data.Fare+0.01) # Someone's fare was 0, so adding 0.01 to be able to do the log transform\n",
    "\n",
    "plt.figure(figsize=(10,5))\n",
    "plt.hist(log_fare-log_fare.mean(), bins=100)\n",
    "plt.grid()\n",
    "plt.show()"
   ]
  },
  {
   "cell_type": "markdown",
   "id": "968efb22",
   "metadata": {
    "papermill": {
     "duration": 0.012407,
     "end_time": "2023-02-14T10:25:39.325085",
     "exception": false,
     "start_time": "2023-02-14T10:25:39.312678",
     "status": "completed"
    },
    "tags": []
   },
   "source": [
    "## SibSp (siblings/spouses) data"
   ]
  },
  {
   "cell_type": "code",
   "execution_count": 17,
   "id": "4e62d843",
   "metadata": {
    "execution": {
     "iopub.execute_input": "2023-02-14T10:25:39.352915Z",
     "iopub.status.busy": "2023-02-14T10:25:39.352418Z",
     "iopub.status.idle": "2023-02-14T10:25:39.594165Z",
     "shell.execute_reply": "2023-02-14T10:25:39.592782Z"
    },
    "papermill": {
     "duration": 0.259374,
     "end_time": "2023-02-14T10:25:39.597279",
     "exception": false,
     "start_time": "2023-02-14T10:25:39.337905",
     "status": "completed"
    },
    "tags": []
   },
   "outputs": [
    {
     "data": {
      "image/png": "[encoded data removed]",
      "text/plain": [
       "<Figure size 720x360 with 1 Axes>"
      ]
     },
     "metadata": {
      "needs_background": "light"
     },
     "output_type": "display_data"
    }
   ],
   "source": [
    "plt.figure(figsize=(10,5))\n",
    "plt.hist(train_data.SibSp-0.4, bins=train_data.SibSp.max(), width=0.8)\n",
    "plt.grid()\n",
    "plt.show()"
   ]
  },
  {
   "cell_type": "markdown",
   "id": "06fb26c3",
   "metadata": {
    "papermill": {
     "duration": 0.012612,
     "end_time": "2023-02-14T10:25:39.623081",
     "exception": false,
     "start_time": "2023-02-14T10:25:39.610469",
     "status": "completed"
    },
    "tags": []
   },
   "source": [
    "## Parch (parent/children) data"
   ]
  },
  {
   "cell_type": "code",
   "execution_count": 18,
   "id": "2215b8d3",
   "metadata": {
    "execution": {
     "iopub.execute_input": "2023-02-14T10:25:39.651932Z",
     "iopub.status.busy": "2023-02-14T10:25:39.651142Z",
     "iopub.status.idle": "2023-02-14T10:25:39.880883Z",
     "shell.execute_reply": "2023-02-14T10:25:39.879322Z"
    },
    "papermill": {
     "duration": 0.247797,
     "end_time": "2023-02-14T10:25:39.884010",
     "exception": false,
     "start_time": "2023-02-14T10:25:39.636213",
     "status": "completed"
    },
    "tags": []
   },
   "outputs": [
    {
     "data": {
      "image/png": "[encoded data removed]",
      "text/plain": [
       "<Figure size 720x360 with 1 Axes>"
      ]
     },
     "metadata": {
      "needs_background": "light"
     },
     "output_type": "display_data"
    }
   ],
   "source": [
    "plt.figure(figsize=(10,5))\n",
    "plt.hist(train_data.Parch-0.4, bins=train_data.Parch.max(), width=0.8)\n",
    "plt.grid()\n",
    "plt.show()"
   ]
  },
  {
   "cell_type": "markdown",
   "id": "911a041f",
   "metadata": {
    "papermill": {
     "duration": 0.012741,
     "end_time": "2023-02-14T10:25:39.909871",
     "exception": false,
     "start_time": "2023-02-14T10:25:39.897130",
     "status": "completed"
    },
    "tags": []
   },
   "source": [
    "## Name data"
   ]
  },
  {
   "cell_type": "code",
   "execution_count": 19,
   "id": "848275d9",
   "metadata": {
    "execution": {
     "iopub.execute_input": "2023-02-14T10:25:39.938352Z",
     "iopub.status.busy": "2023-02-14T10:25:39.937818Z",
     "iopub.status.idle": "2023-02-14T10:25:40.167026Z",
     "shell.execute_reply": "2023-02-14T10:25:40.165847Z"
    },
    "papermill": {
     "duration": 0.246886,
     "end_time": "2023-02-14T10:25:40.169821",
     "exception": false,
     "start_time": "2023-02-14T10:25:39.922935",
     "status": "completed"
    },
    "tags": []
   },
   "outputs": [
    {
     "data": {
      "image/png": "[encoded data removed]",
      "text/plain": [
       "<Figure size 720x360 with 1 Axes>"
      ]
     },
     "metadata": {
      "needs_background": "light"
     },
     "output_type": "display_data"
    }
   ],
   "source": [
    "# Transform names to how many words are in them, excluding nicknames in \"\" and companions in ()\n",
    "def get_name_lengths(df):\n",
    "    return np.array( [ len( n.split('\"')[0].split('(')[0].split(\" \") ) for n in df.Name ] )\n",
    "\n",
    "name_lengths = get_name_lengths(train_data)\n",
    "\n",
    "plt.figure(figsize=(10,5))\n",
    "plt.hist( (name_lengths-np.mean(name_lengths)) )\n",
    "plt.grid()\n",
    "plt.show()\n",
    "\n",
    "# This might not be a good feature"
   ]
  },
  {
   "cell_type": "markdown",
   "id": "cbff9cbe",
   "metadata": {
    "papermill": {
     "duration": 0.01405,
     "end_time": "2023-02-14T10:25:40.197445",
     "exception": false,
     "start_time": "2023-02-14T10:25:40.183395",
     "status": "completed"
    },
    "tags": []
   },
   "source": [
    "# Transform data"
   ]
  },
  {
   "cell_type": "code",
   "execution_count": 20,
   "id": "b69a7bee",
   "metadata": {
    "execution": {
     "iopub.execute_input": "2023-02-14T10:25:40.226673Z",
     "iopub.status.busy": "2023-02-14T10:25:40.226040Z",
     "iopub.status.idle": "2023-02-14T10:25:40.317563Z",
     "shell.execute_reply": "2023-02-14T10:25:40.314991Z"
    },
    "papermill": {
     "duration": 0.110415,
     "end_time": "2023-02-14T10:25:40.321265",
     "exception": false,
     "start_time": "2023-02-14T10:25:40.210850",
     "status": "completed"
    },
    "tags": []
   },
   "outputs": [
    {
     "name": "stdout",
     "output_type": "stream",
     "text": [
      "4 missing ticket number values, will be filled with mean\n",
      "4 missing ticket number values, will be filled with mean\n"
     ]
    },
    {
     "name": "stderr",
     "output_type": "stream",
     "text": [
      "/opt/conda/lib/python3.7/site-packages/ipykernel_launcher.py:33: RuntimeWarning: divide by zero encountered in log\n",
      "/opt/conda/lib/python3.7/site-packages/ipykernel_launcher.py:35: RuntimeWarning: invalid value encountered in log\n"
     ]
    },
    {
     "data": {
      "text/html": [
       "<div>\n",
       "<style scoped>\n",
       "    .dataframe tbody tr th:only-of-type {\n",
       "        vertical-align: middle;\n",
       "    }\n",
       "\n",
       "    .dataframe tbody tr th {\n",
       "        vertical-align: top;\n",
       "    }\n",
       "\n",
       "    .dataframe thead th {\n",
       "        text-align: right;\n",
       "    }\n",
       "</style>\n",
       "<table border=\"1\" class=\"dataframe\">\n",
       "  <thead>\n",
       "    <tr style=\"text-align: right;\">\n",
       "      <th></th>\n",
       "      <th>survived</th>\n",
       "      <th>in_class_1</th>\n",
       "      <th>in_class_2</th>\n",
       "      <th>in_class_3</th>\n",
       "      <th>sex</th>\n",
       "      <th>sib_sp</th>\n",
       "      <th>parch</th>\n",
       "      <th>fare</th>\n",
       "      <th>embarked_from_S</th>\n",
       "      <th>embarked_from_C</th>\n",
       "      <th>...</th>\n",
       "      <th>cabin_on_deck_A</th>\n",
       "      <th>cabin_on_deck_B</th>\n",
       "      <th>cabin_on_deck_C</th>\n",
       "      <th>cabin_on_deck_D</th>\n",
       "      <th>cabin_on_deck_E</th>\n",
       "      <th>cabin_on_deck_F</th>\n",
       "      <th>cabin_on_deck_G</th>\n",
       "      <th>cabin_on_deck_T</th>\n",
       "      <th>name_length</th>\n",
       "      <th>family_size</th>\n",
       "    </tr>\n",
       "  </thead>\n",
       "  <tbody>\n",
       "    <tr>\n",
       "      <th>0</th>\n",
       "      <td>0</td>\n",
       "      <td>0</td>\n",
       "      <td>0</td>\n",
       "      <td>1</td>\n",
       "      <td>1</td>\n",
       "      <td>0.125</td>\n",
       "      <td>0.0</td>\n",
       "      <td>-0.834657</td>\n",
       "      <td>1</td>\n",
       "      <td>0</td>\n",
       "      <td>...</td>\n",
       "      <td>0.0</td>\n",
       "      <td>0.0</td>\n",
       "      <td>0.0</td>\n",
       "      <td>0.0</td>\n",
       "      <td>0.0</td>\n",
       "      <td>0.0</td>\n",
       "      <td>0.0</td>\n",
       "      <td>0.0</td>\n",
       "      <td>0.171717</td>\n",
       "      <td>0.181818</td>\n",
       "    </tr>\n",
       "    <tr>\n",
       "      <th>1</th>\n",
       "      <td>1</td>\n",
       "      <td>1</td>\n",
       "      <td>0</td>\n",
       "      <td>0</td>\n",
       "      <td>0</td>\n",
       "      <td>0.125</td>\n",
       "      <td>0.0</td>\n",
       "      <td>1.449766</td>\n",
       "      <td>0</td>\n",
       "      <td>1</td>\n",
       "      <td>...</td>\n",
       "      <td>0.0</td>\n",
       "      <td>0.0</td>\n",
       "      <td>1.0</td>\n",
       "      <td>0.0</td>\n",
       "      <td>0.0</td>\n",
       "      <td>0.0</td>\n",
       "      <td>0.0</td>\n",
       "      <td>0.0</td>\n",
       "      <td>1.171717</td>\n",
       "      <td>0.181818</td>\n",
       "    </tr>\n",
       "    <tr>\n",
       "      <th>2</th>\n",
       "      <td>1</td>\n",
       "      <td>0</td>\n",
       "      <td>0</td>\n",
       "      <td>1</td>\n",
       "      <td>0</td>\n",
       "      <td>0.000</td>\n",
       "      <td>0.0</td>\n",
       "      <td>-0.745753</td>\n",
       "      <td>1</td>\n",
       "      <td>0</td>\n",
       "      <td>...</td>\n",
       "      <td>0.0</td>\n",
       "      <td>0.0</td>\n",
       "      <td>0.0</td>\n",
       "      <td>0.0</td>\n",
       "      <td>0.0</td>\n",
       "      <td>0.0</td>\n",
       "      <td>0.0</td>\n",
       "      <td>0.0</td>\n",
       "      <td>-0.828283</td>\n",
       "      <td>0.090909</td>\n",
       "    </tr>\n",
       "    <tr>\n",
       "      <th>3</th>\n",
       "      <td>1</td>\n",
       "      <td>1</td>\n",
       "      <td>0</td>\n",
       "      <td>0</td>\n",
       "      <td>0</td>\n",
       "      <td>0.125</td>\n",
       "      <td>0.0</td>\n",
       "      <td>1.155329</td>\n",
       "      <td>1</td>\n",
       "      <td>0</td>\n",
       "      <td>...</td>\n",
       "      <td>0.0</td>\n",
       "      <td>0.0</td>\n",
       "      <td>1.0</td>\n",
       "      <td>0.0</td>\n",
       "      <td>0.0</td>\n",
       "      <td>0.0</td>\n",
       "      <td>0.0</td>\n",
       "      <td>0.0</td>\n",
       "      <td>1.171717</td>\n",
       "      <td>0.181818</td>\n",
       "    </tr>\n",
       "    <tr>\n",
       "      <th>4</th>\n",
       "      <td>0</td>\n",
       "      <td>0</td>\n",
       "      <td>0</td>\n",
       "      <td>1</td>\n",
       "      <td>1</td>\n",
       "      <td>0.000</td>\n",
       "      <td>0.0</td>\n",
       "      <td>-0.730123</td>\n",
       "      <td>1</td>\n",
       "      <td>0</td>\n",
       "      <td>...</td>\n",
       "      <td>0.0</td>\n",
       "      <td>0.0</td>\n",
       "      <td>0.0</td>\n",
       "      <td>0.0</td>\n",
       "      <td>0.0</td>\n",
       "      <td>0.0</td>\n",
       "      <td>0.0</td>\n",
       "      <td>0.0</td>\n",
       "      <td>0.171717</td>\n",
       "      <td>0.090909</td>\n",
       "    </tr>\n",
       "  </tbody>\n",
       "</table>\n",
       "<p>5 rows × 24 columns</p>\n",
       "</div>"
      ],
      "text/plain": [
       "   survived  in_class_1  in_class_2  in_class_3  sex  sib_sp  parch      fare  \\\n",
       "0         0           0           0           1    1   0.125    0.0 -0.834657   \n",
       "1         1           1           0           0    0   0.125    0.0  1.449766   \n",
       "2         1           0           0           1    0   0.000    0.0 -0.745753   \n",
       "3         1           1           0           0    0   0.125    0.0  1.155329   \n",
       "4         0           0           0           1    1   0.000    0.0 -0.730123   \n",
       "\n",
       "   embarked_from_S  embarked_from_C  ...  cabin_on_deck_A  cabin_on_deck_B  \\\n",
       "0                1                0  ...              0.0              0.0   \n",
       "1                0                1  ...              0.0              0.0   \n",
       "2                1                0  ...              0.0              0.0   \n",
       "3                1                0  ...              0.0              0.0   \n",
       "4                1                0  ...              0.0              0.0   \n",
       "\n",
       "   cabin_on_deck_C  cabin_on_deck_D  cabin_on_deck_E  cabin_on_deck_F  \\\n",
       "0              0.0              0.0              0.0              0.0   \n",
       "1              1.0              0.0              0.0              0.0   \n",
       "2              0.0              0.0              0.0              0.0   \n",
       "3              1.0              0.0              0.0              0.0   \n",
       "4              0.0              0.0              0.0              0.0   \n",
       "\n",
       "   cabin_on_deck_G  cabin_on_deck_T  name_length  family_size  \n",
       "0              0.0              0.0     0.171717     0.181818  \n",
       "1              0.0              0.0     1.171717     0.181818  \n",
       "2              0.0              0.0    -0.828283     0.090909  \n",
       "3              0.0              0.0     1.171717     0.181818  \n",
       "4              0.0              0.0     0.171717     0.090909  \n",
       "\n",
       "[5 rows x 24 columns]"
      ]
     },
     "execution_count": 20,
     "metadata": {},
     "output_type": "execute_result"
    }
   ],
   "source": [
    "# Make a DataFrame where each row is one nn input \n",
    "def transform_df(data_df, scaling_df, training=True):\n",
    "    \n",
    "    # Using separate 'data_df' and 'scaling_df'. In training the same df is used for both, but when testing 'data_df' is\n",
    "    # the test data and 'scaling_df' is the training data. This is done to keep the input scaling the same for the nn.\n",
    "    \n",
    "    # I started experimenting with log scaling after watching Ken Jee's video on this challenge https://www.youtube.com/watch?v=I3FBJdiExcg\n",
    "    \n",
    "    # Initialize an empty dataframe\n",
    "    transformed_df = pd.DataFrame()\n",
    "    \n",
    "    # Skip true labels for test data since there aren't any\n",
    "    if training:\n",
    "        transformed_df['survived']    = data_df.Survived # Target labels\n",
    "        \n",
    "    # Do data transforms\n",
    "    transformed_df['in_class_1']      = np.where(data_df.Pclass==1, 1, 0) # One hot class\n",
    "    transformed_df['in_class_2']      = np.where(data_df.Pclass==2, 1, 0) # One hot class\n",
    "    transformed_df['in_class_3']      = np.where(data_df.Pclass==3, 1, 0) # One hot class\n",
    "    transformed_df['sex']             = np.where(data_df.Sex=='male', 1, 0) # Binary activation\n",
    "    transformed_df['sib_sp']          = data_df.SibSp/scaling_df.SibSp.max() # Normalized with scaling_df maximum\n",
    "    transformed_df['parch']           = data_df.Parch/scaling_df.Parch.max() # Normalized with scaling_df maximum\n",
    "    transformed_df['fare']            = np.log(data_df.Fare+0.01)-np.mean(np.log(scaling_df.Fare+0.01)) # Log scaled and mean shifted, see above data exploration on fare\n",
    "    transformed_df['embarked_from_S'] = np.where(data_df.Embarked=='S', 1, 0) # One hot class, the 2 nan values will be [0,0,0]\n",
    "    transformed_df['embarked_from_C'] = np.where(data_df.Embarked=='C', 1, 0) # One hot class\n",
    "    transformed_df['embarked_from_Q'] = np.where(data_df.Embarked=='Q', 1, 0) # One hot class\n",
    "    \n",
    "    # New input values\n",
    "    transformed_df['age']             = np.log(data_df.Age+0.01)-np.mean(np.log(scaling_df.Age+0.01)) # Log scaled and mean shifted (lead to all nans and this was a quick fix with minute chage), see above data exploration on age\n",
    "    transformed_df['ticket_number']   = np.log(get_ticket_numbers(data_df))-np.mean(np.log(get_ticket_numbers(scaling_df))) # Log scaled and mean shifted, see above data exploration on ticket number\n",
    "    \n",
    "    # Cabin number, log where values were found and -1 otherwise\n",
    "    cabin_numbers = np.log(get_cabin_numbers(data_df))\n",
    "#     transformed_df['cabin_number'] = np.where( cabin_numbers>0, np.log(cabin_numbers+0.01), -1)\n",
    "    transformed_df['cabin_number'] = np.where( cabin_numbers>0, np.log(cabin_numbers+0.01), np.nan) # Fill 0s (nans, see 'get_cabin_numbers') with nans which will be filled with the mean\n",
    "    \n",
    "    # All decks are ['A', 'B', 'C', 'D', 'E', 'F', 'G', 'T']\n",
    "    transformed_df['cabin_on_deck_A'] = has_cabin_on_deck(data_df, \"A\")\n",
    "    transformed_df['cabin_on_deck_B'] = has_cabin_on_deck(data_df, \"B\")\n",
    "    transformed_df['cabin_on_deck_C'] = has_cabin_on_deck(data_df, \"C\")\n",
    "    transformed_df['cabin_on_deck_D'] = has_cabin_on_deck(data_df, \"D\")\n",
    "    transformed_df['cabin_on_deck_E'] = has_cabin_on_deck(data_df, \"E\")\n",
    "    transformed_df['cabin_on_deck_F'] = has_cabin_on_deck(data_df, \"F\")\n",
    "    transformed_df['cabin_on_deck_G'] = has_cabin_on_deck(data_df, \"G\")\n",
    "    transformed_df['cabin_on_deck_T'] = has_cabin_on_deck(data_df, \"T\")\n",
    "    \n",
    "    # Name length data\n",
    "    transformed_df['name_length'] = get_name_lengths(data_df)-np.mean(get_name_lengths(scaling_df))\n",
    "    \n",
    "    # Family size, seemed important but simple to implement feature, ref: https://www.kaggle.com/code/vinothan/titanic-model-with-90-accuracy \n",
    "    transformed_df['family_size'] = (data_df.SibSp + data_df.Parch + 1)/(scaling_df.SibSp + scaling_df.Parch + 1).max()\n",
    "    \n",
    "    # Go through columns and fill nan values with the mean of the column\n",
    "    for c in transformed_df.columns:\n",
    "        transformed_df[c].fillna(transformed_df[c].mean(), inplace=True)\n",
    "    \n",
    "    return transformed_df\n",
    "\n",
    "# Get training data dataframe\n",
    "nn_data = transform_df(train_data, train_data)\n",
    "nn_data.head()"
   ]
  },
  {
   "cell_type": "markdown",
   "id": "696a95ce",
   "metadata": {
    "papermill": {
     "duration": 0.01449,
     "end_time": "2023-02-14T10:25:40.350866",
     "exception": false,
     "start_time": "2023-02-14T10:25:40.336376",
     "status": "completed"
    },
    "tags": []
   },
   "source": [
    "# Build neural network"
   ]
  },
  {
   "cell_type": "code",
   "execution_count": 21,
   "id": "e79e7604",
   "metadata": {
    "execution": {
     "iopub.execute_input": "2023-02-14T10:25:40.382181Z",
     "iopub.status.busy": "2023-02-14T10:25:40.381679Z",
     "iopub.status.idle": "2023-02-14T10:25:40.389275Z",
     "shell.execute_reply": "2023-02-14T10:25:40.387567Z"
    },
    "papermill": {
     "duration": 0.02672,
     "end_time": "2023-02-14T10:25:40.392424",
     "exception": false,
     "start_time": "2023-02-14T10:25:40.365704",
     "status": "completed"
    },
    "tags": []
   },
   "outputs": [
    {
     "name": "stdout",
     "output_type": "stream",
     "text": [
      "cpu\n"
     ]
    }
   ],
   "source": [
    "# Define device which net is trained on\n",
    "device = torch.device(\"cuda:0\" if torch.cuda.is_available() else \"cpu\")\n",
    "\n",
    "# See if GPU ('cuda') is available\n",
    "print(device)"
   ]
  },
  {
   "cell_type": "code",
   "execution_count": 22,
   "id": "90ea313c",
   "metadata": {
    "execution": {
     "iopub.execute_input": "2023-02-14T10:25:40.423752Z",
     "iopub.status.busy": "2023-02-14T10:25:40.423164Z",
     "iopub.status.idle": "2023-02-14T10:25:40.438116Z",
     "shell.execute_reply": "2023-02-14T10:25:40.436502Z"
    },
    "papermill": {
     "duration": 0.034459,
     "end_time": "2023-02-14T10:25:40.441274",
     "exception": false,
     "start_time": "2023-02-14T10:25:40.406815",
     "status": "completed"
    },
    "tags": []
   },
   "outputs": [],
   "source": [
    "# How many values are inputted to the neural net. -1 is for the target label\n",
    "input_size = nn_data.shape[1]-1\n",
    "hidden_size = 30\n",
    "DROPOUT = 0.5\n",
    "\n",
    "# Build neural net\n",
    "model = nn.Sequential(\n",
    "            nn.Linear(input_size,hidden_size),\n",
    "            nn.Sigmoid(),\n",
    "            nn.LayerNorm(hidden_size),\n",
    "            nn.Dropout(DROPOUT),\n",
    "    \n",
    "            nn.Linear(hidden_size,hidden_size),\n",
    "            nn.Sigmoid(),\n",
    "            nn.LayerNorm(hidden_size),\n",
    "            nn.Dropout(DROPOUT),\n",
    "    \n",
    "            nn.Linear(hidden_size,hidden_size),\n",
    "            nn.Sigmoid(),\n",
    "            nn.LayerNorm(hidden_size),\n",
    "            nn.Dropout(DROPOUT),\n",
    "    \n",
    "            nn.Linear(hidden_size,hidden_size),\n",
    "            nn.Sigmoid(),\n",
    "            nn.LayerNorm(hidden_size),\n",
    "            nn.Dropout(DROPOUT),\n",
    "    \n",
    "            nn.Linear(hidden_size,1),\n",
    "            nn.Sigmoid()\n",
    ")"
   ]
  },
  {
   "cell_type": "code",
   "execution_count": 23,
   "id": "dc9a7db1",
   "metadata": {
    "execution": {
     "iopub.execute_input": "2023-02-14T10:25:40.473806Z",
     "iopub.status.busy": "2023-02-14T10:25:40.473289Z",
     "iopub.status.idle": "2023-02-14T10:25:40.484979Z",
     "shell.execute_reply": "2023-02-14T10:25:40.483622Z"
    },
    "papermill": {
     "duration": 0.031767,
     "end_time": "2023-02-14T10:25:40.488212",
     "exception": false,
     "start_time": "2023-02-14T10:25:40.456445",
     "status": "completed"
    },
    "tags": []
   },
   "outputs": [],
   "source": [
    "# Define model accuracy\n",
    "torch_precision = torch.float64 # torch.float32 # \n",
    "\n",
    "# Set precision  \n",
    "if torch_precision == torch.float32:\n",
    "    model = model.float()\n",
    "elif torch_precision == torch.float64:\n",
    "    model = model.double()\n",
    "\n",
    "# Set processing to device (cpu or gpu==cuda)\n",
    "model = model.to(device)\n",
    "\n",
    "# Initialize loss function and optimizer\n",
    "criterion = nn.BCELoss()\n",
    "learning_rate = 0.003 # 0.001 # Default lr, but it is nice to know where lr start since using a lr_scheduler\n",
    "optimizer = torch.optim.Adam(model.parameters(), lr=learning_rate)\n",
    "\n",
    "# Learning rate scheduler reduces the learning rate on plateau\n",
    "scheduler = torch.optim.lr_scheduler.ReduceLROnPlateau(optimizer, \n",
    "                                                       mode='min', \n",
    "                                                       factor=0.5, \n",
    "                                                       patience=30, \n",
    "                                                       threshold=0.0001, \n",
    "                                                       threshold_mode='rel', \n",
    "                                                       cooldown=0, min_lr=learning_rate/40, \n",
    "                                                       eps=1e-08, \n",
    "                                                       verbose=True)"
   ]
  },
  {
   "cell_type": "code",
   "execution_count": 24,
   "id": "bd131c4c",
   "metadata": {
    "execution": {
     "iopub.execute_input": "2023-02-14T10:25:40.522343Z",
     "iopub.status.busy": "2023-02-14T10:25:40.521293Z",
     "iopub.status.idle": "2023-02-14T10:25:40.530182Z",
     "shell.execute_reply": "2023-02-14T10:25:40.528899Z"
    },
    "papermill": {
     "duration": 0.029751,
     "end_time": "2023-02-14T10:25:40.533387",
     "exception": false,
     "start_time": "2023-02-14T10:25:40.503636",
     "status": "completed"
    },
    "tags": []
   },
   "outputs": [],
   "source": [
    "# Used to reset learning rate mid training\n",
    "def set_lr(optimizer, lr):\n",
    "    for param_group in optimizer.param_groups:\n",
    "        param_group['lr'] = lr\n",
    "        \n",
    "# Used for collecting lr which will be visualized in the loss plot \n",
    "def get_lr(optimizer):\n",
    "    for param_group in optimizer.param_groups:\n",
    "        return param_group['lr']"
   ]
  },
  {
   "cell_type": "markdown",
   "id": "5f7034db",
   "metadata": {
    "papermill": {
     "duration": 0.014631,
     "end_time": "2023-02-14T10:25:40.562274",
     "exception": false,
     "start_time": "2023-02-14T10:25:40.547643",
     "status": "completed"
    },
    "tags": []
   },
   "source": [
    "# Train neural network"
   ]
  },
  {
   "cell_type": "code",
   "execution_count": 25,
   "id": "3757b324",
   "metadata": {
    "execution": {
     "iopub.execute_input": "2023-02-14T10:25:40.594725Z",
     "iopub.status.busy": "2023-02-14T10:25:40.593694Z",
     "iopub.status.idle": "2023-02-14T10:31:43.916501Z",
     "shell.execute_reply": "2023-02-14T10:31:43.914892Z"
    },
    "papermill": {
     "duration": 363.365157,
     "end_time": "2023-02-14T10:31:43.941959",
     "exception": false,
     "start_time": "2023-02-14T10:25:40.576802",
     "status": "completed"
    },
    "tags": []
   },
   "outputs": [
    {
     "name": "stdout",
     "output_type": "stream",
     "text": [
      "Epoch 00114: reducing learning rate of group 0 to 1.5000e-03.\n",
      "Epoch 00207: reducing learning rate of group 0 to 7.5000e-04.\n",
      "Epoch 00256: reducing learning rate of group 0 to 3.7500e-04.\n",
      "Epoch 00319: reducing learning rate of group 0 to 1.8750e-04.\n",
      "Epoch 00350: reducing learning rate of group 0 to 9.3750e-05.\n",
      "Epoch 00381: reducing learning rate of group 0 to 7.5000e-05.\n",
      "Epoch 00562: reducing learning rate of group 0 to 1.5000e-03.\n",
      "Epoch 00593: reducing learning rate of group 0 to 7.5000e-04.\n",
      "Epoch 00624: reducing learning rate of group 0 to 3.7500e-04.\n",
      "Epoch 00681: reducing learning rate of group 0 to 1.8750e-04.\n",
      "Epoch 00712: reducing learning rate of group 0 to 9.3750e-05.\n",
      "Epoch 00744: reducing learning rate of group 0 to 7.5000e-05.\n",
      "Epoch 01113: reducing learning rate of group 0 to 1.5000e-03.\n",
      "Epoch 01144: reducing learning rate of group 0 to 7.5000e-04.\n",
      "Epoch 01175: reducing learning rate of group 0 to 3.7500e-04.\n",
      "Epoch 01206: reducing learning rate of group 0 to 1.8750e-04.\n",
      "Epoch 01237: reducing learning rate of group 0 to 9.3750e-05.\n",
      "Epoch 01268: reducing learning rate of group 0 to 7.5000e-05.\n",
      "Epoch 01653: reducing learning rate of group 0 to 1.5000e-03.\n",
      "Epoch 01684: reducing learning rate of group 0 to 7.5000e-04.\n",
      "Epoch 01715: reducing learning rate of group 0 to 3.7500e-04.\n",
      "Epoch 01746: reducing learning rate of group 0 to 1.8750e-04.\n",
      "Epoch 01806: reducing learning rate of group 0 to 9.3750e-05.\n",
      "Epoch 01837: reducing learning rate of group 0 to 7.5000e-05.\n",
      "Epoch 02211: reducing learning rate of group 0 to 1.5000e-03.\n",
      "Epoch 02242: reducing learning rate of group 0 to 7.5000e-04.\n",
      "Epoch 02273: reducing learning rate of group 0 to 3.7500e-04.\n",
      "Epoch 02304: reducing learning rate of group 0 to 1.8750e-04.\n",
      "Epoch 02335: reducing learning rate of group 0 to 9.3750e-05.\n",
      "Epoch 02366: reducing learning rate of group 0 to 7.5000e-05.\n",
      "Epoch 02735: reducing learning rate of group 0 to 1.5000e-03.\n",
      "Epoch 02766: reducing learning rate of group 0 to 7.5000e-04.\n",
      "Epoch 02797: reducing learning rate of group 0 to 3.7500e-04.\n",
      "Epoch 02828: reducing learning rate of group 0 to 1.8750e-04.\n",
      "Epoch 02859: reducing learning rate of group 0 to 9.3750e-05.\n",
      "Epoch 02890: reducing learning rate of group 0 to 7.5000e-05.\n",
      "Epoch 03293: reducing learning rate of group 0 to 1.5000e-03.\n",
      "Epoch 03324: reducing learning rate of group 0 to 7.5000e-04.\n",
      "Epoch 03355: reducing learning rate of group 0 to 3.7500e-04.\n",
      "Epoch 03386: reducing learning rate of group 0 to 1.8750e-04.\n",
      "Epoch 03417: reducing learning rate of group 0 to 9.3750e-05.\n",
      "Epoch 03448: reducing learning rate of group 0 to 7.5000e-05.\n",
      "Epoch 03820: reducing learning rate of group 0 to 1.5000e-03.\n",
      "Epoch 03851: reducing learning rate of group 0 to 7.5000e-04.\n",
      "Epoch 03882: reducing learning rate of group 0 to 3.7500e-04.\n",
      "Epoch 03913: reducing learning rate of group 0 to 1.8750e-04.\n",
      "Epoch 03944: reducing learning rate of group 0 to 9.3750e-05.\n",
      "Epoch 03975: reducing learning rate of group 0 to 7.5000e-05.\n",
      "Epoch 04378: reducing learning rate of group 0 to 1.5000e-03.\n",
      "Epoch 04409: reducing learning rate of group 0 to 7.5000e-04.\n",
      "Epoch 04440: reducing learning rate of group 0 to 3.7500e-04.\n",
      "Epoch 04471: reducing learning rate of group 0 to 1.8750e-04.\n",
      "Epoch 04502: reducing learning rate of group 0 to 9.3750e-05.\n",
      "Epoch 04533: reducing learning rate of group 0 to 7.5000e-05.\n",
      "Epoch 04936: reducing learning rate of group 0 to 1.5000e-03.\n",
      "Epoch 04967: reducing learning rate of group 0 to 7.5000e-04.\n",
      "Epoch 04998: reducing learning rate of group 0 to 3.7500e-04.\n",
      "Epoch 05029: reducing learning rate of group 0 to 1.8750e-04.\n",
      "Epoch 05060: reducing learning rate of group 0 to 9.3750e-05.\n",
      "Epoch 05091: reducing learning rate of group 0 to 7.5000e-05.\n",
      "Epoch 05476: reducing learning rate of group 0 to 1.5000e-03.\n",
      "Epoch 05507: reducing learning rate of group 0 to 7.5000e-04.\n",
      "Epoch 05538: reducing learning rate of group 0 to 3.7500e-04.\n",
      "Epoch 05569: reducing learning rate of group 0 to 1.8750e-04.\n",
      "Epoch 05600: reducing learning rate of group 0 to 9.3750e-05.\n",
      "Epoch 05631: reducing learning rate of group 0 to 7.5000e-05.\n"
     ]
    },
    {
     "data": {
      "image/png": "[encoded data removed]",
      "text/plain": [
       "<Figure size 1152x576 with 2 Axes>"
      ]
     },
     "metadata": {
      "needs_background": "light"
     },
     "output_type": "display_data"
    }
   ],
   "source": [
    "# Take all indices, mix them, and read them in batch size chunks. This way neural net data is mixed\n",
    "num_indices = nn_data.shape[0]\n",
    "indices = np.arange(num_indices)\n",
    "\n",
    "# Training parameters\n",
    "BATCH_SIZE = 64\n",
    "EPOCHS = 6000\n",
    "LEARNING_RATE_RESETS = 10\n",
    "\n",
    "# List for training losses\n",
    "training_losses = []\n",
    "\n",
    "# Variable for lowest loss, used for saving the best parameters\n",
    "lowest_loss = np.inf\n",
    "\n",
    "# Collect learning rates\n",
    "learning_rates = []\n",
    "\n",
    "# Training loop\n",
    "for epoch in range(EPOCHS):\n",
    "    \n",
    "    # Mix training data indices and zero loss of now starting epoch\n",
    "    np.random.shuffle(indices)\n",
    "    training_loss = 0\n",
    "    model.train()\n",
    "        \n",
    "    # Training batch loop\n",
    "    for ind in range(0, num_indices-BATCH_SIZE, BATCH_SIZE):\n",
    "\n",
    "        # Get data from dataframe\n",
    "        batch_indices = indices[ind:ind+BATCH_SIZE]\n",
    "        data = nn_data.iloc[batch_indices]\n",
    "        \n",
    "        # Move data to torch tenors\n",
    "        target_labels = torch.tensor(data.survived.values, device=device, dtype=torch_precision).reshape(BATCH_SIZE,1)\n",
    "        nn_input_data = torch.tensor(data.drop(['survived'],axis=1).values, device=device, dtype=torch_precision).reshape(BATCH_SIZE,input_size)\n",
    "\n",
    "        # Do prediction with neural network forward pass\n",
    "        pred = model(nn_input_data)\n",
    "        \n",
    "        # Evaluate performance\n",
    "        loss = criterion(pred, target_labels)\n",
    "        training_loss += loss.item()\n",
    "\n",
    "        # Train the neural network\n",
    "        optimizer.zero_grad()\n",
    "        loss.backward()\n",
    "        optimizer.step()\n",
    "        \n",
    "    # Store the loss of epoch\n",
    "    training_losses.append(training_loss)\n",
    "    \n",
    "    # If training loss has not decreased in 'patience' epochs, learning rate is decreased\n",
    "    scheduler.step(training_loss) \n",
    "    \n",
    "    # Save the parameters with the lowest loss\n",
    "    if training_loss < lowest_loss:\n",
    "        training_loss = lowest_loss\n",
    "        torch.save(model.state_dict(), 'best_parameters.pt')\n",
    "\n",
    "    # Reset learning rate LEARNING_RATE_RESETS times\n",
    "    if epoch % int(EPOCHS/(LEARNING_RATE_RESETS+1)) == 0:\n",
    "        set_lr(optimizer, learning_rate)\n",
    "        \n",
    "        # Load the parameters with lowest loss\n",
    "        model.load_state_dict(torch.load('best_parameters.pt'))\n",
    "\n",
    "    # Collect learning rate\n",
    "    learning_rates.append(get_lr(optimizer))\n",
    "        \n",
    "# Plot losses\n",
    "fig, ax1 = plt.subplots(figsize=(16,8))\n",
    "ax1.set_xlabel('Epoch')\n",
    "ax1.set_ylabel('Loss')\n",
    "ax1.plot(training_losses)\n",
    "\n",
    "# Add learning rate on with second vertical axis\n",
    "ax2 = ax1.twinx() \n",
    "ax2.set_ylabel('Learning rate') \n",
    "ax2.plot(learning_rates, 'k')\n",
    "fig.tight_layout() \n",
    "plt.grid()\n",
    "plt.show()"
   ]
  },
  {
   "cell_type": "code",
   "execution_count": 26,
   "id": "b29af070",
   "metadata": {
    "execution": {
     "iopub.execute_input": "2023-02-14T10:31:43.984871Z",
     "iopub.status.busy": "2023-02-14T10:31:43.984363Z",
     "iopub.status.idle": "2023-02-14T10:31:44.073375Z",
     "shell.execute_reply": "2023-02-14T10:31:44.071372Z"
    },
    "papermill": {
     "duration": 0.116823,
     "end_time": "2023-02-14T10:31:44.079945",
     "exception": false,
     "start_time": "2023-02-14T10:31:43.963122",
     "status": "completed"
    },
    "tags": []
   },
   "outputs": [
    {
     "name": "stdout",
     "output_type": "stream",
     "text": [
      "0 missing ticket number values, will be filled with mean\n",
      "4 missing ticket number values, will be filled with mean\n"
     ]
    },
    {
     "name": "stderr",
     "output_type": "stream",
     "text": [
      "/opt/conda/lib/python3.7/site-packages/ipykernel_launcher.py:33: RuntimeWarning: divide by zero encountered in log\n",
      "/opt/conda/lib/python3.7/site-packages/ipykernel_launcher.py:35: RuntimeWarning: invalid value encountered in log\n"
     ]
    },
    {
     "data": {
      "text/html": [
       "<div>\n",
       "<style scoped>\n",
       "    .dataframe tbody tr th:only-of-type {\n",
       "        vertical-align: middle;\n",
       "    }\n",
       "\n",
       "    .dataframe tbody tr th {\n",
       "        vertical-align: top;\n",
       "    }\n",
       "\n",
       "    .dataframe thead th {\n",
       "        text-align: right;\n",
       "    }\n",
       "</style>\n",
       "<table border=\"1\" class=\"dataframe\">\n",
       "  <thead>\n",
       "    <tr style=\"text-align: right;\">\n",
       "      <th></th>\n",
       "      <th>in_class_1</th>\n",
       "      <th>in_class_2</th>\n",
       "      <th>in_class_3</th>\n",
       "      <th>sex</th>\n",
       "      <th>sib_sp</th>\n",
       "      <th>parch</th>\n",
       "      <th>fare</th>\n",
       "      <th>embarked_from_S</th>\n",
       "      <th>embarked_from_C</th>\n",
       "      <th>embarked_from_Q</th>\n",
       "      <th>...</th>\n",
       "      <th>cabin_on_deck_A</th>\n",
       "      <th>cabin_on_deck_B</th>\n",
       "      <th>cabin_on_deck_C</th>\n",
       "      <th>cabin_on_deck_D</th>\n",
       "      <th>cabin_on_deck_E</th>\n",
       "      <th>cabin_on_deck_F</th>\n",
       "      <th>cabin_on_deck_G</th>\n",
       "      <th>cabin_on_deck_T</th>\n",
       "      <th>name_length</th>\n",
       "      <th>family_size</th>\n",
       "    </tr>\n",
       "  </thead>\n",
       "  <tbody>\n",
       "    <tr>\n",
       "      <th>0</th>\n",
       "      <td>0</td>\n",
       "      <td>0</td>\n",
       "      <td>1</td>\n",
       "      <td>1</td>\n",
       "      <td>0.000</td>\n",
       "      <td>0.000000</td>\n",
       "      <td>-0.757900</td>\n",
       "      <td>0</td>\n",
       "      <td>0</td>\n",
       "      <td>1</td>\n",
       "      <td>...</td>\n",
       "      <td>0.0</td>\n",
       "      <td>0.0</td>\n",
       "      <td>0.0</td>\n",
       "      <td>0.0</td>\n",
       "      <td>0.0</td>\n",
       "      <td>0.0</td>\n",
       "      <td>0.0</td>\n",
       "      <td>0.0</td>\n",
       "      <td>-0.828283</td>\n",
       "      <td>0.090909</td>\n",
       "    </tr>\n",
       "    <tr>\n",
       "      <th>1</th>\n",
       "      <td>0</td>\n",
       "      <td>0</td>\n",
       "      <td>1</td>\n",
       "      <td>0</td>\n",
       "      <td>0.125</td>\n",
       "      <td>0.000000</td>\n",
       "      <td>-0.869699</td>\n",
       "      <td>1</td>\n",
       "      <td>0</td>\n",
       "      <td>0</td>\n",
       "      <td>...</td>\n",
       "      <td>0.0</td>\n",
       "      <td>0.0</td>\n",
       "      <td>0.0</td>\n",
       "      <td>0.0</td>\n",
       "      <td>0.0</td>\n",
       "      <td>0.0</td>\n",
       "      <td>0.0</td>\n",
       "      <td>0.0</td>\n",
       "      <td>0.171717</td>\n",
       "      <td>0.181818</td>\n",
       "    </tr>\n",
       "    <tr>\n",
       "      <th>2</th>\n",
       "      <td>0</td>\n",
       "      <td>1</td>\n",
       "      <td>0</td>\n",
       "      <td>1</td>\n",
       "      <td>0.000</td>\n",
       "      <td>0.000000</td>\n",
       "      <td>-0.545168</td>\n",
       "      <td>0</td>\n",
       "      <td>0</td>\n",
       "      <td>1</td>\n",
       "      <td>...</td>\n",
       "      <td>0.0</td>\n",
       "      <td>0.0</td>\n",
       "      <td>0.0</td>\n",
       "      <td>0.0</td>\n",
       "      <td>0.0</td>\n",
       "      <td>0.0</td>\n",
       "      <td>0.0</td>\n",
       "      <td>0.0</td>\n",
       "      <td>0.171717</td>\n",
       "      <td>0.090909</td>\n",
       "    </tr>\n",
       "    <tr>\n",
       "      <th>3</th>\n",
       "      <td>0</td>\n",
       "      <td>0</td>\n",
       "      <td>1</td>\n",
       "      <td>1</td>\n",
       "      <td>0.000</td>\n",
       "      <td>0.000000</td>\n",
       "      <td>-0.656879</td>\n",
       "      <td>1</td>\n",
       "      <td>0</td>\n",
       "      <td>0</td>\n",
       "      <td>...</td>\n",
       "      <td>0.0</td>\n",
       "      <td>0.0</td>\n",
       "      <td>0.0</td>\n",
       "      <td>0.0</td>\n",
       "      <td>0.0</td>\n",
       "      <td>0.0</td>\n",
       "      <td>0.0</td>\n",
       "      <td>0.0</td>\n",
       "      <td>-0.828283</td>\n",
       "      <td>0.090909</td>\n",
       "    </tr>\n",
       "    <tr>\n",
       "      <th>4</th>\n",
       "      <td>0</td>\n",
       "      <td>0</td>\n",
       "      <td>1</td>\n",
       "      <td>0</td>\n",
       "      <td>0.125</td>\n",
       "      <td>0.166667</td>\n",
       "      <td>-0.307640</td>\n",
       "      <td>1</td>\n",
       "      <td>0</td>\n",
       "      <td>0</td>\n",
       "      <td>...</td>\n",
       "      <td>0.0</td>\n",
       "      <td>0.0</td>\n",
       "      <td>0.0</td>\n",
       "      <td>0.0</td>\n",
       "      <td>0.0</td>\n",
       "      <td>0.0</td>\n",
       "      <td>0.0</td>\n",
       "      <td>0.0</td>\n",
       "      <td>0.171717</td>\n",
       "      <td>0.272727</td>\n",
       "    </tr>\n",
       "  </tbody>\n",
       "</table>\n",
       "<p>5 rows × 23 columns</p>\n",
       "</div>"
      ],
      "text/plain": [
       "   in_class_1  in_class_2  in_class_3  sex  sib_sp     parch      fare  \\\n",
       "0           0           0           1    1   0.000  0.000000 -0.757900   \n",
       "1           0           0           1    0   0.125  0.000000 -0.869699   \n",
       "2           0           1           0    1   0.000  0.000000 -0.545168   \n",
       "3           0           0           1    1   0.000  0.000000 -0.656879   \n",
       "4           0           0           1    0   0.125  0.166667 -0.307640   \n",
       "\n",
       "   embarked_from_S  embarked_from_C  embarked_from_Q  ...  cabin_on_deck_A  \\\n",
       "0                0                0                1  ...              0.0   \n",
       "1                1                0                0  ...              0.0   \n",
       "2                0                0                1  ...              0.0   \n",
       "3                1                0                0  ...              0.0   \n",
       "4                1                0                0  ...              0.0   \n",
       "\n",
       "   cabin_on_deck_B  cabin_on_deck_C  cabin_on_deck_D  cabin_on_deck_E  \\\n",
       "0              0.0              0.0              0.0              0.0   \n",
       "1              0.0              0.0              0.0              0.0   \n",
       "2              0.0              0.0              0.0              0.0   \n",
       "3              0.0              0.0              0.0              0.0   \n",
       "4              0.0              0.0              0.0              0.0   \n",
       "\n",
       "   cabin_on_deck_F  cabin_on_deck_G  cabin_on_deck_T  name_length  family_size  \n",
       "0              0.0              0.0              0.0    -0.828283     0.090909  \n",
       "1              0.0              0.0              0.0     0.171717     0.181818  \n",
       "2              0.0              0.0              0.0     0.171717     0.090909  \n",
       "3              0.0              0.0              0.0    -0.828283     0.090909  \n",
       "4              0.0              0.0              0.0     0.171717     0.272727  \n",
       "\n",
       "[5 rows x 23 columns]"
      ]
     },
     "execution_count": 26,
     "metadata": {},
     "output_type": "execute_result"
    }
   ],
   "source": [
    "# Read test data\n",
    "test_data = pd.read_csv(\"/kaggle/input/titanic/test.csv\")\n",
    "\n",
    "# Save passenger ids for submission\n",
    "passenger_ids = test_data.PassengerId \n",
    "\n",
    "# Transform to neural net input scale, train_data is used for scaling\n",
    "test_data = transform_df(test_data, train_data, training=False)\n",
    "\n",
    "test_data.head()"
   ]
  },
  {
   "cell_type": "code",
   "execution_count": 27,
   "id": "8bcc1696",
   "metadata": {
    "execution": {
     "iopub.execute_input": "2023-02-14T10:31:44.127016Z",
     "iopub.status.busy": "2023-02-14T10:31:44.125352Z",
     "iopub.status.idle": "2023-02-14T10:31:44.163106Z",
     "shell.execute_reply": "2023-02-14T10:31:44.161598Z"
    },
    "papermill": {
     "duration": 0.063594,
     "end_time": "2023-02-14T10:31:44.166415",
     "exception": false,
     "start_time": "2023-02-14T10:31:44.102821",
     "status": "completed"
    },
    "tags": []
   },
   "outputs": [
    {
     "data": {
      "text/html": [
       "<div>\n",
       "<style scoped>\n",
       "    .dataframe tbody tr th:only-of-type {\n",
       "        vertical-align: middle;\n",
       "    }\n",
       "\n",
       "    .dataframe tbody tr th {\n",
       "        vertical-align: top;\n",
       "    }\n",
       "\n",
       "    .dataframe thead th {\n",
       "        text-align: right;\n",
       "    }\n",
       "</style>\n",
       "<table border=\"1\" class=\"dataframe\">\n",
       "  <thead>\n",
       "    <tr style=\"text-align: right;\">\n",
       "      <th></th>\n",
       "      <th>PassengerId</th>\n",
       "      <th>Survived</th>\n",
       "    </tr>\n",
       "  </thead>\n",
       "  <tbody>\n",
       "    <tr>\n",
       "      <th>0</th>\n",
       "      <td>892</td>\n",
       "      <td>0</td>\n",
       "    </tr>\n",
       "    <tr>\n",
       "      <th>1</th>\n",
       "      <td>893</td>\n",
       "      <td>0</td>\n",
       "    </tr>\n",
       "    <tr>\n",
       "      <th>2</th>\n",
       "      <td>894</td>\n",
       "      <td>0</td>\n",
       "    </tr>\n",
       "    <tr>\n",
       "      <th>3</th>\n",
       "      <td>895</td>\n",
       "      <td>0</td>\n",
       "    </tr>\n",
       "    <tr>\n",
       "      <th>4</th>\n",
       "      <td>896</td>\n",
       "      <td>0</td>\n",
       "    </tr>\n",
       "  </tbody>\n",
       "</table>\n",
       "</div>"
      ],
      "text/plain": [
       "   PassengerId  Survived\n",
       "0          892         0\n",
       "1          893         0\n",
       "2          894         0\n",
       "3          895         0\n",
       "4          896         0"
      ]
     },
     "execution_count": 27,
     "metadata": {},
     "output_type": "execute_result"
    }
   ],
   "source": [
    "# Test data as a tensor\n",
    "nn_input_test_data = torch.tensor(test_data.values, device=device, dtype=torch_precision).reshape(-1,input_size)\n",
    "\n",
    "# Load the parameters with lowest loss\n",
    "model.load_state_dict(torch.load('best_parameters.pt'))\n",
    "\n",
    "# Do prediction on test data. 'eval' omits dropouts and no grad skips gradient calculation used for training the net\n",
    "model.eval()\n",
    "with torch.no_grad():\n",
    "    test_data_pred = model(nn_input_test_data).squeeze()\n",
    "    test_data_pred_int = test_data_pred.round().to(torch.int64)\n",
    "\n",
    "# Save submission to csv\n",
    "submission = pd.DataFrame()\n",
    "submission['PassengerId'] = passenger_ids\n",
    "submission['Survived'] = test_data_pred_int.numpy()\n",
    "submission.to_csv('dense_net_with_feature_engineering_submission5.csv', index=False)\n",
    "\n",
    "# Look at head of submission\n",
    "submission.head()"
   ]
  }
 ],
 "metadata": {
  "kernelspec": {
   "display_name": "Python 3",
   "language": "python",
   "name": "python3"
  },
  "language_info": {
   "codemirror_mode": {
    "name": "ipython",
    "version": 3
   },
   "file_extension": ".py",
   "mimetype": "text/x-python",
   "name": "python",
   "nbconvert_exporter": "python",
   "pygments_lexer": "ipython3",
   "version": "3.7.12"
  },
  "papermill": {
   "default_parameters": {},
   "duration": 385.168749,
   "end_time": "2023-02-14T10:31:45.518072",
   "environment_variables": {},
   "exception": null,
   "input_path": "__notebook__.ipynb",
   "output_path": "__notebook__.ipynb",
   "parameters": {},
   "start_time": "2023-02-14T10:25:20.349323",
   "version": "2.3.4"
  }
 },
 "nbformat": 4,
 "nbformat_minor": 5
}
